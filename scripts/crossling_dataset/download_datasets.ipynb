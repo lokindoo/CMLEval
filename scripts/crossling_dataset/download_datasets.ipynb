{
 "cells": [
  {
   "cell_type": "code",
   "execution_count": 99,
   "id": "f5002981",
   "metadata": {},
   "outputs": [],
   "source": [
    "import os\n",
    "import sys\n",
    "\n",
    "module_path = os.path.abspath(os.path.join('..'))\n",
    "if module_path not in sys.path:\n",
    "    sys.path.append(module_path)\n",
    "os.chdir(os.getcwd().removesuffix(\"\\\\evaluation\"))"
   ]
  },
  {
   "cell_type": "markdown",
   "id": "81a6ed13",
   "metadata": {},
   "source": [
    "# BLEnD"
   ]
  },
  {
   "cell_type": "code",
   "execution_count": 177,
   "id": "abcced34",
   "metadata": {},
   "outputs": [
    {
     "name": "stdout",
     "output_type": "stream",
     "text": [
      "8000\n"
     ]
    },
    {
     "data": {
      "application/vnd.microsoft.datawrangler.viewer.v0+json": {
       "columns": [
        {
         "name": "index",
         "rawType": "int64",
         "type": "integer"
        },
        {
         "name": "ID",
         "rawType": "object",
         "type": "string"
        },
        {
         "name": "question",
         "rawType": "object",
         "type": "string"
        },
        {
         "name": "en_question",
         "rawType": "object",
         "type": "string"
        },
        {
         "name": "annotations",
         "rawType": "object",
         "type": "unknown"
        },
        {
         "name": "idks",
         "rawType": "object",
         "type": "unknown"
        },
        {
         "name": "Language",
         "rawType": "object",
         "type": "string"
        }
       ],
       "conversionMethod": "pd.DataFrame",
       "ref": "644eb655-f6e2-4a57-ae2e-bf7167b1cc8b",
       "rows": [
        [
         "0",
         "Al-en-01",
         "ماذا يأكل الأطفال كوجبة خفيفة قبل المدرسة في الجزائر؟",
         "What is a common snack for preschool kids in Algeria?",
         "[{'answers': ['شطائر الخبز بالمربى', 'خبز بالمربى والزبدة'], 'en_answers': ['jam sandwiches', 'jam and butter sandwiches'], 'count': 2}, {'answers': ['هلالية', 'كرواسان'], 'en_answers': ['croissant'], 'count': 1}, {'answers': ['حليب', 'الحليب'], 'en_answers': ['milk'], 'count': 1}, {'answers': ['اللمجة', 'لمجة'], 'en_answers': ['snack'], 'count': 1}]",
         "{'idk': 1, 'no-answer': 0, 'not-applicable': 0}",
         "DZ"
        ],
        [
         "1",
         "Al-en-02",
         "ما هو الطعام الشعبي الذي يتناول مع البيرة في الجزائر؟",
         "What is a popular food to go with beer in Algeria?",
         "[]",
         "{'not-applicable': 5, 'idk': 0, 'no-answer': 0}",
         "DZ"
        ],
        [
         "2",
         "Al-en-04",
         "ما هي الفاكهة الأكثر شعبية في الجزائر؟",
         "What is the most popular fruit in Algeria?",
         "[{'answers': ['البرتقال'], 'en_answers': ['orange'], 'count': 5}, {'answers': ['التمر'], 'en_answers': ['dates'], 'count': 2}, {'answers': ['الموز'], 'en_answers': ['bananas'], 'count': 1}, {'answers': ['البطيخ'], 'en_answers': ['watermelon'], 'count': 1}]",
         "{'idk': 0, 'no-answer': 0, 'not-applicable': 0}",
         "DZ"
        ],
        [
         "3",
         "Al-en-06",
         "ما هو طعام كافتيريا المدرسة الشائع في الجزائر؟",
         "What is a common school cafeteria food in Algeria?",
         "[{'answers': ['العدس'], 'en_answers': ['lentils', 'lentil'], 'count': 1}]",
         "{'idk': 4, 'no-answer': 0, 'not-applicable': 0}",
         "DZ"
        ],
        [
         "4",
         "Al-en-08",
         "ما هي الوجبات الخفيفة التي يتناولها الناس في مراكز التسوق في الجزائر؟",
         "What are the most commonly eaten snacks at shopping malls in Algeria?",
         "[{'answers': ['بيتزا', 'البيتزا'], 'en_answers': ['pizza'], 'count': 3}, {'answers': ['همبرقر', 'برغر'], 'en_answers': ['hamburger', 'burger'], 'count': 2}, {'answers': ['شوارمة'], 'en_answers': ['shawarma'], 'count': 1}, {'answers': ['الآيس كريم'], 'en_answers': ['ice cream'], 'count': 1}, {'answers': ['سندويتش'], 'en_answers': ['sandwich'], 'count': 1}]",
         "{'idk': 0, 'no-answer': 0, 'not-applicable': 0}",
         "DZ"
        ]
       ],
       "shape": {
        "columns": 6,
        "rows": 5
       }
      },
      "text/html": [
       "<div>\n",
       "<style scoped>\n",
       "    .dataframe tbody tr th:only-of-type {\n",
       "        vertical-align: middle;\n",
       "    }\n",
       "\n",
       "    .dataframe tbody tr th {\n",
       "        vertical-align: top;\n",
       "    }\n",
       "\n",
       "    .dataframe thead th {\n",
       "        text-align: right;\n",
       "    }\n",
       "</style>\n",
       "<table border=\"1\" class=\"dataframe\">\n",
       "  <thead>\n",
       "    <tr style=\"text-align: right;\">\n",
       "      <th></th>\n",
       "      <th>ID</th>\n",
       "      <th>question</th>\n",
       "      <th>en_question</th>\n",
       "      <th>annotations</th>\n",
       "      <th>idks</th>\n",
       "      <th>Language</th>\n",
       "    </tr>\n",
       "  </thead>\n",
       "  <tbody>\n",
       "    <tr>\n",
       "      <th>0</th>\n",
       "      <td>Al-en-01</td>\n",
       "      <td>ماذا يأكل الأطفال كوجبة خفيفة قبل المدرسة في ا...</td>\n",
       "      <td>What is a common snack for preschool kids in A...</td>\n",
       "      <td>[{'answers': ['شطائر الخبز بالمربى', 'خبز بالم...</td>\n",
       "      <td>{'idk': 1, 'no-answer': 0, 'not-applicable': 0}</td>\n",
       "      <td>DZ</td>\n",
       "    </tr>\n",
       "    <tr>\n",
       "      <th>1</th>\n",
       "      <td>Al-en-02</td>\n",
       "      <td>ما هو الطعام الشعبي الذي يتناول مع البيرة في ا...</td>\n",
       "      <td>What is a popular food to go with beer in Alge...</td>\n",
       "      <td>[]</td>\n",
       "      <td>{'not-applicable': 5, 'idk': 0, 'no-answer': 0}</td>\n",
       "      <td>DZ</td>\n",
       "    </tr>\n",
       "    <tr>\n",
       "      <th>2</th>\n",
       "      <td>Al-en-04</td>\n",
       "      <td>ما هي الفاكهة الأكثر شعبية في الجزائر؟</td>\n",
       "      <td>What is the most popular fruit in Algeria?</td>\n",
       "      <td>[{'answers': ['البرتقال'], 'en_answers': ['ora...</td>\n",
       "      <td>{'idk': 0, 'no-answer': 0, 'not-applicable': 0}</td>\n",
       "      <td>DZ</td>\n",
       "    </tr>\n",
       "    <tr>\n",
       "      <th>3</th>\n",
       "      <td>Al-en-06</td>\n",
       "      <td>ما هو طعام كافتيريا المدرسة الشائع في الجزائر؟</td>\n",
       "      <td>What is a common school cafeteria food in Alge...</td>\n",
       "      <td>[{'answers': ['العدس'], 'en_answers': ['lentil...</td>\n",
       "      <td>{'idk': 4, 'no-answer': 0, 'not-applicable': 0}</td>\n",
       "      <td>DZ</td>\n",
       "    </tr>\n",
       "    <tr>\n",
       "      <th>4</th>\n",
       "      <td>Al-en-08</td>\n",
       "      <td>ما هي الوجبات الخفيفة التي يتناولها الناس في م...</td>\n",
       "      <td>What are the most commonly eaten snacks at sho...</td>\n",
       "      <td>[{'answers': ['بيتزا', 'البيتزا'], 'en_answers...</td>\n",
       "      <td>{'idk': 0, 'no-answer': 0, 'not-applicable': 0}</td>\n",
       "      <td>DZ</td>\n",
       "    </tr>\n",
       "  </tbody>\n",
       "</table>\n",
       "</div>"
      ],
      "text/plain": [
       "         ID                                           question  \\\n",
       "0  Al-en-01  ماذا يأكل الأطفال كوجبة خفيفة قبل المدرسة في ا...   \n",
       "1  Al-en-02  ما هو الطعام الشعبي الذي يتناول مع البيرة في ا...   \n",
       "2  Al-en-04             ما هي الفاكهة الأكثر شعبية في الجزائر؟   \n",
       "3  Al-en-06     ما هو طعام كافتيريا المدرسة الشائع في الجزائر؟   \n",
       "4  Al-en-08  ما هي الوجبات الخفيفة التي يتناولها الناس في م...   \n",
       "\n",
       "                                         en_question  \\\n",
       "0  What is a common snack for preschool kids in A...   \n",
       "1  What is a popular food to go with beer in Alge...   \n",
       "2         What is the most popular fruit in Algeria?   \n",
       "3  What is a common school cafeteria food in Alge...   \n",
       "4  What are the most commonly eaten snacks at sho...   \n",
       "\n",
       "                                         annotations  \\\n",
       "0  [{'answers': ['شطائر الخبز بالمربى', 'خبز بالم...   \n",
       "1                                                 []   \n",
       "2  [{'answers': ['البرتقال'], 'en_answers': ['ora...   \n",
       "3  [{'answers': ['العدس'], 'en_answers': ['lentil...   \n",
       "4  [{'answers': ['بيتزا', 'البيتزا'], 'en_answers...   \n",
       "\n",
       "                                              idks Language  \n",
       "0  {'idk': 1, 'no-answer': 0, 'not-applicable': 0}       DZ  \n",
       "1  {'not-applicable': 5, 'idk': 0, 'no-answer': 0}       DZ  \n",
       "2  {'idk': 0, 'no-answer': 0, 'not-applicable': 0}       DZ  \n",
       "3  {'idk': 4, 'no-answer': 0, 'not-applicable': 0}       DZ  \n",
       "4  {'idk': 0, 'no-answer': 0, 'not-applicable': 0}       DZ  "
      ]
     },
     "execution_count": 177,
     "metadata": {},
     "output_type": "execute_result"
    }
   ],
   "source": [
    "import pandas as pd\n",
    "\n",
    "d = {'DZ': 'data/annotations_hf/Algeria_data.json', 'AS': 'data/annotations_hf/Assam_data.json', 'AZ': 'data/annotations_hf/Azerbaijan_data.json', 'CN': 'data/annotations_hf/China_data.json', 'ET': 'data/annotations_hf/Ethiopia_data.json', 'GR': 'data/annotations_hf/Greece_data.json', 'ID': 'data/annotations_hf/Indonesia_data.json', 'IR': 'data/annotations_hf/Iran_data.json', 'MX': 'data/annotations_hf/Mexico_data.json', 'KP': 'data/annotations_hf/North_Korea_data.json', 'NG': 'data/annotations_hf/Northern_Nigeria_data.json', 'KR': 'data/annotations_hf/South_Korea_data.json', 'ES': 'data/annotations_hf/Spain_data.json', 'GB': 'data/annotations_hf/UK_data.json', 'US': 'data/annotations_hf/US_data.json', 'JB': 'data/annotations_hf/West_Java_data.json'}\n",
    "df = []\n",
    "for k in d:\n",
    "    data = pd.read_json(\"hf://datasets/nayeon212/BLEnD/\" + d[k])\n",
    "    data[\"Language\"] = k\n",
    "    df.append(data)\n",
    "df = pd.concat(df, ignore_index=True)\n",
    "print(len(df))\n",
    "df.head()"
   ]
  },
  {
   "cell_type": "code",
   "execution_count": 178,
   "id": "7415854c",
   "metadata": {},
   "outputs": [
    {
     "name": "stdout",
     "output_type": "stream",
     "text": [
      "7723\n"
     ]
    },
    {
     "data": {
      "application/vnd.microsoft.datawrangler.viewer.v0+json": {
       "columns": [
        {
         "name": "index",
         "rawType": "int64",
         "type": "integer"
        },
        {
         "name": "ID",
         "rawType": "object",
         "type": "string"
        },
        {
         "name": "question",
         "rawType": "object",
         "type": "string"
        },
        {
         "name": "en_question",
         "rawType": "object",
         "type": "string"
        },
        {
         "name": "annotations",
         "rawType": "object",
         "type": "unknown"
        },
        {
         "name": "idks",
         "rawType": "object",
         "type": "unknown"
        },
        {
         "name": "Language",
         "rawType": "object",
         "type": "string"
        }
       ],
       "conversionMethod": "pd.DataFrame",
       "ref": "73c4170a-0dba-4d7b-af96-5baf99294ad0",
       "rows": [
        [
         "0",
         "Al-en-01",
         "ماذا يأكل الأطفال كوجبة خفيفة قبل المدرسة في الجزائر؟",
         "What is a common snack for preschool kids in Algeria?",
         "[{'answers': ['شطائر الخبز بالمربى', 'خبز بالمربى والزبدة'], 'en_answers': ['jam sandwiches', 'jam and butter sandwiches'], 'count': 2}, {'answers': ['هلالية', 'كرواسان'], 'en_answers': ['croissant'], 'count': 1}, {'answers': ['حليب', 'الحليب'], 'en_answers': ['milk'], 'count': 1}, {'answers': ['اللمجة', 'لمجة'], 'en_answers': ['snack'], 'count': 1}]",
         "{'idk': 1, 'no-answer': 0, 'not-applicable': 0}",
         "DZ"
        ],
        [
         "1",
         "Al-en-04",
         "ما هي الفاكهة الأكثر شعبية في الجزائر؟",
         "What is the most popular fruit in Algeria?",
         "[{'answers': ['البرتقال'], 'en_answers': ['orange'], 'count': 5}, {'answers': ['التمر'], 'en_answers': ['dates'], 'count': 2}, {'answers': ['الموز'], 'en_answers': ['bananas'], 'count': 1}, {'answers': ['البطيخ'], 'en_answers': ['watermelon'], 'count': 1}]",
         "{'idk': 0, 'no-answer': 0, 'not-applicable': 0}",
         "DZ"
        ],
        [
         "2",
         "Al-en-06",
         "ما هو طعام كافتيريا المدرسة الشائع في الجزائر؟",
         "What is a common school cafeteria food in Algeria?",
         "[{'answers': ['العدس'], 'en_answers': ['lentils', 'lentil'], 'count': 1}]",
         "{'idk': 4, 'no-answer': 0, 'not-applicable': 0}",
         "DZ"
        ],
        [
         "3",
         "Al-en-08",
         "ما هي الوجبات الخفيفة التي يتناولها الناس في مراكز التسوق في الجزائر؟",
         "What are the most commonly eaten snacks at shopping malls in Algeria?",
         "[{'answers': ['بيتزا', 'البيتزا'], 'en_answers': ['pizza'], 'count': 3}, {'answers': ['همبرقر', 'برغر'], 'en_answers': ['hamburger', 'burger'], 'count': 2}, {'answers': ['شوارمة'], 'en_answers': ['shawarma'], 'count': 1}, {'answers': ['الآيس كريم'], 'en_answers': ['ice cream'], 'count': 1}, {'answers': ['سندويتش'], 'en_answers': ['sandwich'], 'count': 1}]",
         "{'idk': 0, 'no-answer': 0, 'not-applicable': 0}",
         "DZ"
        ],
        [
         "4",
         "Al-en-09",
         "ما هي الوجبة الخفيفة الشعبية في مدينة الملاهي في الجزائر؟",
         "What is a popular snack at an amusement park in Algeria?",
         "[{'answers': ['غزل البنات'], 'en_answers': ['cotton candy'], 'count': 2}, {'answers': ['الآيس كريم'], 'en_answers': ['ice cream'], 'count': 1}, {'answers': ['الكعك المقلي'], 'en_answers': ['donuts'], 'count': 1}]",
         "{'not-applicable': 2, 'idk': 0, 'no-answer': 0}",
         "DZ"
        ]
       ],
       "shape": {
        "columns": 6,
        "rows": 5
       }
      },
      "text/html": [
       "<div>\n",
       "<style scoped>\n",
       "    .dataframe tbody tr th:only-of-type {\n",
       "        vertical-align: middle;\n",
       "    }\n",
       "\n",
       "    .dataframe tbody tr th {\n",
       "        vertical-align: top;\n",
       "    }\n",
       "\n",
       "    .dataframe thead th {\n",
       "        text-align: right;\n",
       "    }\n",
       "</style>\n",
       "<table border=\"1\" class=\"dataframe\">\n",
       "  <thead>\n",
       "    <tr style=\"text-align: right;\">\n",
       "      <th></th>\n",
       "      <th>ID</th>\n",
       "      <th>question</th>\n",
       "      <th>en_question</th>\n",
       "      <th>annotations</th>\n",
       "      <th>idks</th>\n",
       "      <th>Language</th>\n",
       "    </tr>\n",
       "  </thead>\n",
       "  <tbody>\n",
       "    <tr>\n",
       "      <th>0</th>\n",
       "      <td>Al-en-01</td>\n",
       "      <td>ماذا يأكل الأطفال كوجبة خفيفة قبل المدرسة في ا...</td>\n",
       "      <td>What is a common snack for preschool kids in A...</td>\n",
       "      <td>[{'answers': ['شطائر الخبز بالمربى', 'خبز بالم...</td>\n",
       "      <td>{'idk': 1, 'no-answer': 0, 'not-applicable': 0}</td>\n",
       "      <td>DZ</td>\n",
       "    </tr>\n",
       "    <tr>\n",
       "      <th>1</th>\n",
       "      <td>Al-en-04</td>\n",
       "      <td>ما هي الفاكهة الأكثر شعبية في الجزائر؟</td>\n",
       "      <td>What is the most popular fruit in Algeria?</td>\n",
       "      <td>[{'answers': ['البرتقال'], 'en_answers': ['ora...</td>\n",
       "      <td>{'idk': 0, 'no-answer': 0, 'not-applicable': 0}</td>\n",
       "      <td>DZ</td>\n",
       "    </tr>\n",
       "    <tr>\n",
       "      <th>2</th>\n",
       "      <td>Al-en-06</td>\n",
       "      <td>ما هو طعام كافتيريا المدرسة الشائع في الجزائر؟</td>\n",
       "      <td>What is a common school cafeteria food in Alge...</td>\n",
       "      <td>[{'answers': ['العدس'], 'en_answers': ['lentil...</td>\n",
       "      <td>{'idk': 4, 'no-answer': 0, 'not-applicable': 0}</td>\n",
       "      <td>DZ</td>\n",
       "    </tr>\n",
       "    <tr>\n",
       "      <th>3</th>\n",
       "      <td>Al-en-08</td>\n",
       "      <td>ما هي الوجبات الخفيفة التي يتناولها الناس في م...</td>\n",
       "      <td>What are the most commonly eaten snacks at sho...</td>\n",
       "      <td>[{'answers': ['بيتزا', 'البيتزا'], 'en_answers...</td>\n",
       "      <td>{'idk': 0, 'no-answer': 0, 'not-applicable': 0}</td>\n",
       "      <td>DZ</td>\n",
       "    </tr>\n",
       "    <tr>\n",
       "      <th>4</th>\n",
       "      <td>Al-en-09</td>\n",
       "      <td>ما هي الوجبة الخفيفة الشعبية في مدينة الملاهي ...</td>\n",
       "      <td>What is a popular snack at an amusement park i...</td>\n",
       "      <td>[{'answers': ['غزل البنات'], 'en_answers': ['c...</td>\n",
       "      <td>{'not-applicable': 2, 'idk': 0, 'no-answer': 0}</td>\n",
       "      <td>DZ</td>\n",
       "    </tr>\n",
       "  </tbody>\n",
       "</table>\n",
       "</div>"
      ],
      "text/plain": [
       "         ID                                           question  \\\n",
       "0  Al-en-01  ماذا يأكل الأطفال كوجبة خفيفة قبل المدرسة في ا...   \n",
       "1  Al-en-04             ما هي الفاكهة الأكثر شعبية في الجزائر؟   \n",
       "2  Al-en-06     ما هو طعام كافتيريا المدرسة الشائع في الجزائر؟   \n",
       "3  Al-en-08  ما هي الوجبات الخفيفة التي يتناولها الناس في م...   \n",
       "4  Al-en-09  ما هي الوجبة الخفيفة الشعبية في مدينة الملاهي ...   \n",
       "\n",
       "                                         en_question  \\\n",
       "0  What is a common snack for preschool kids in A...   \n",
       "1         What is the most popular fruit in Algeria?   \n",
       "2  What is a common school cafeteria food in Alge...   \n",
       "3  What are the most commonly eaten snacks at sho...   \n",
       "4  What is a popular snack at an amusement park i...   \n",
       "\n",
       "                                         annotations  \\\n",
       "0  [{'answers': ['شطائر الخبز بالمربى', 'خبز بالم...   \n",
       "1  [{'answers': ['البرتقال'], 'en_answers': ['ora...   \n",
       "2  [{'answers': ['العدس'], 'en_answers': ['lentil...   \n",
       "3  [{'answers': ['بيتزا', 'البيتزا'], 'en_answers...   \n",
       "4  [{'answers': ['غزل البنات'], 'en_answers': ['c...   \n",
       "\n",
       "                                              idks Language  \n",
       "0  {'idk': 1, 'no-answer': 0, 'not-applicable': 0}       DZ  \n",
       "1  {'idk': 0, 'no-answer': 0, 'not-applicable': 0}       DZ  \n",
       "2  {'idk': 4, 'no-answer': 0, 'not-applicable': 0}       DZ  \n",
       "3  {'idk': 0, 'no-answer': 0, 'not-applicable': 0}       DZ  \n",
       "4  {'not-applicable': 2, 'idk': 0, 'no-answer': 0}       DZ  "
      ]
     },
     "execution_count": 178,
     "metadata": {},
     "output_type": "execute_result"
    }
   ],
   "source": [
    "df = df[df[\"annotations\"].map(len) > 0].copy().reset_index(drop=True)\n",
    "print(len(df))\n",
    "df.head()"
   ]
  },
  {
   "cell_type": "code",
   "execution_count": 179,
   "id": "bd283449",
   "metadata": {},
   "outputs": [
    {
     "name": "stdout",
     "output_type": "stream",
     "text": [
      "4767\n"
     ]
    }
   ],
   "source": [
    "df = df[~df[\"Language\"].isin([\"GB\", \"US\", \"CN\", \"ES\", \"ID\", \"MX\"])].copy()\n",
    "print(len(df))"
   ]
  },
  {
   "cell_type": "code",
   "execution_count": null,
   "id": "639a652b",
   "metadata": {},
   "outputs": [],
   "source": [
    "country_code_2_lang = {\n",
    "    # \"CN\": \"Chinese\",\n",
    "    # \"ES\": \"Spanish\",\n",
    "    # \"MX\": \"Spanish\",\n",
    "    # \"ID\": \"Indonesian\",\n",
    "    \"KR\": \"Korean\",\n",
    "    \"KP\": \"Korean\",\n",
    "    \"GR\": \"Greek\",\n",
    "    \"IR\": \"Persian\",\n",
    "    \"DZ\": \"Arabic\",\n",
    "    \"AZ\": \"Azerbaijani\",\n",
    "    \"JB\": \"Sundanese\",\n",
    "    \"AS\": \"Assamese\",\n",
    "    \"NG\": \"Hausa\",\n",
    "    \"ET\": \"Amharic\",\n",
    "}\n",
    "\n",
    "df[\"Language\"] = df[\"Language\"].apply(\n",
    "    lambda s: country_code_2_lang[s],\n",
    ")"
   ]
  },
  {
   "cell_type": "code",
   "execution_count": 182,
   "id": "c4f11e8b",
   "metadata": {},
   "outputs": [
    {
     "data": {
      "application/vnd.microsoft.datawrangler.viewer.v0+json": {
       "columns": [
        {
         "name": "index",
         "rawType": "int64",
         "type": "integer"
        },
        {
         "name": "ID",
         "rawType": "object",
         "type": "string"
        },
        {
         "name": "question",
         "rawType": "object",
         "type": "string"
        },
        {
         "name": "en_question",
         "rawType": "object",
         "type": "string"
        },
        {
         "name": "annotations",
         "rawType": "object",
         "type": "unknown"
        },
        {
         "name": "idks",
         "rawType": "object",
         "type": "unknown"
        },
        {
         "name": "Language",
         "rawType": "object",
         "type": "string"
        }
       ],
       "conversionMethod": "pd.DataFrame",
       "ref": "1da1392a-244f-473d-ab89-8c229fc2dd8d",
       "rows": [
        [
         "0",
         "Al-en-01",
         "ماذا يأكل الأطفال كوجبة خفيفة قبل المدرسة في الجزائر؟",
         "What is a common snack for preschool kids in Algeria?",
         "[{'answers': ['شطائر الخبز بالمربى', 'خبز بالمربى والزبدة'], 'en_answers': ['jam sandwiches', 'jam and butter sandwiches'], 'count': 2}, {'answers': ['هلالية', 'كرواسان'], 'en_answers': ['croissant'], 'count': 1}, {'answers': ['حليب', 'الحليب'], 'en_answers': ['milk'], 'count': 1}, {'answers': ['اللمجة', 'لمجة'], 'en_answers': ['snack'], 'count': 1}]",
         "{'idk': 1, 'no-answer': 0, 'not-applicable': 0}",
         "Arabic"
        ],
        [
         "1",
         "Al-en-04",
         "ما هي الفاكهة الأكثر شعبية في الجزائر؟",
         "What is the most popular fruit in Algeria?",
         "[{'answers': ['البرتقال'], 'en_answers': ['orange'], 'count': 5}, {'answers': ['التمر'], 'en_answers': ['dates'], 'count': 2}, {'answers': ['الموز'], 'en_answers': ['bananas'], 'count': 1}, {'answers': ['البطيخ'], 'en_answers': ['watermelon'], 'count': 1}]",
         "{'idk': 0, 'no-answer': 0, 'not-applicable': 0}",
         "Arabic"
        ],
        [
         "2",
         "Al-en-06",
         "ما هو طعام كافتيريا المدرسة الشائع في الجزائر؟",
         "What is a common school cafeteria food in Algeria?",
         "[{'answers': ['العدس'], 'en_answers': ['lentils', 'lentil'], 'count': 1}]",
         "{'idk': 4, 'no-answer': 0, 'not-applicable': 0}",
         "Arabic"
        ],
        [
         "3",
         "Al-en-08",
         "ما هي الوجبات الخفيفة التي يتناولها الناس في مراكز التسوق في الجزائر؟",
         "What are the most commonly eaten snacks at shopping malls in Algeria?",
         "[{'answers': ['بيتزا', 'البيتزا'], 'en_answers': ['pizza'], 'count': 3}, {'answers': ['همبرقر', 'برغر'], 'en_answers': ['hamburger', 'burger'], 'count': 2}, {'answers': ['شوارمة'], 'en_answers': ['shawarma'], 'count': 1}, {'answers': ['الآيس كريم'], 'en_answers': ['ice cream'], 'count': 1}, {'answers': ['سندويتش'], 'en_answers': ['sandwich'], 'count': 1}]",
         "{'idk': 0, 'no-answer': 0, 'not-applicable': 0}",
         "Arabic"
        ],
        [
         "4",
         "Al-en-09",
         "ما هي الوجبة الخفيفة الشعبية في مدينة الملاهي في الجزائر؟",
         "What is a popular snack at an amusement park in Algeria?",
         "[{'answers': ['غزل البنات'], 'en_answers': ['cotton candy'], 'count': 2}, {'answers': ['الآيس كريم'], 'en_answers': ['ice cream'], 'count': 1}, {'answers': ['الكعك المقلي'], 'en_answers': ['donuts'], 'count': 1}]",
         "{'not-applicable': 2, 'idk': 0, 'no-answer': 0}",
         "Arabic"
        ]
       ],
       "shape": {
        "columns": 6,
        "rows": 5
       }
      },
      "text/html": [
       "<div>\n",
       "<style scoped>\n",
       "    .dataframe tbody tr th:only-of-type {\n",
       "        vertical-align: middle;\n",
       "    }\n",
       "\n",
       "    .dataframe tbody tr th {\n",
       "        vertical-align: top;\n",
       "    }\n",
       "\n",
       "    .dataframe thead th {\n",
       "        text-align: right;\n",
       "    }\n",
       "</style>\n",
       "<table border=\"1\" class=\"dataframe\">\n",
       "  <thead>\n",
       "    <tr style=\"text-align: right;\">\n",
       "      <th></th>\n",
       "      <th>ID</th>\n",
       "      <th>question</th>\n",
       "      <th>en_question</th>\n",
       "      <th>annotations</th>\n",
       "      <th>idks</th>\n",
       "      <th>Language</th>\n",
       "    </tr>\n",
       "  </thead>\n",
       "  <tbody>\n",
       "    <tr>\n",
       "      <th>0</th>\n",
       "      <td>Al-en-01</td>\n",
       "      <td>ماذا يأكل الأطفال كوجبة خفيفة قبل المدرسة في ا...</td>\n",
       "      <td>What is a common snack for preschool kids in A...</td>\n",
       "      <td>[{'answers': ['شطائر الخبز بالمربى', 'خبز بالم...</td>\n",
       "      <td>{'idk': 1, 'no-answer': 0, 'not-applicable': 0}</td>\n",
       "      <td>Arabic</td>\n",
       "    </tr>\n",
       "    <tr>\n",
       "      <th>1</th>\n",
       "      <td>Al-en-04</td>\n",
       "      <td>ما هي الفاكهة الأكثر شعبية في الجزائر؟</td>\n",
       "      <td>What is the most popular fruit in Algeria?</td>\n",
       "      <td>[{'answers': ['البرتقال'], 'en_answers': ['ora...</td>\n",
       "      <td>{'idk': 0, 'no-answer': 0, 'not-applicable': 0}</td>\n",
       "      <td>Arabic</td>\n",
       "    </tr>\n",
       "    <tr>\n",
       "      <th>2</th>\n",
       "      <td>Al-en-06</td>\n",
       "      <td>ما هو طعام كافتيريا المدرسة الشائع في الجزائر؟</td>\n",
       "      <td>What is a common school cafeteria food in Alge...</td>\n",
       "      <td>[{'answers': ['العدس'], 'en_answers': ['lentil...</td>\n",
       "      <td>{'idk': 4, 'no-answer': 0, 'not-applicable': 0}</td>\n",
       "      <td>Arabic</td>\n",
       "    </tr>\n",
       "    <tr>\n",
       "      <th>3</th>\n",
       "      <td>Al-en-08</td>\n",
       "      <td>ما هي الوجبات الخفيفة التي يتناولها الناس في م...</td>\n",
       "      <td>What are the most commonly eaten snacks at sho...</td>\n",
       "      <td>[{'answers': ['بيتزا', 'البيتزا'], 'en_answers...</td>\n",
       "      <td>{'idk': 0, 'no-answer': 0, 'not-applicable': 0}</td>\n",
       "      <td>Arabic</td>\n",
       "    </tr>\n",
       "    <tr>\n",
       "      <th>4</th>\n",
       "      <td>Al-en-09</td>\n",
       "      <td>ما هي الوجبة الخفيفة الشعبية في مدينة الملاهي ...</td>\n",
       "      <td>What is a popular snack at an amusement park i...</td>\n",
       "      <td>[{'answers': ['غزل البنات'], 'en_answers': ['c...</td>\n",
       "      <td>{'not-applicable': 2, 'idk': 0, 'no-answer': 0}</td>\n",
       "      <td>Arabic</td>\n",
       "    </tr>\n",
       "  </tbody>\n",
       "</table>\n",
       "</div>"
      ],
      "text/plain": [
       "         ID                                           question  \\\n",
       "0  Al-en-01  ماذا يأكل الأطفال كوجبة خفيفة قبل المدرسة في ا...   \n",
       "1  Al-en-04             ما هي الفاكهة الأكثر شعبية في الجزائر؟   \n",
       "2  Al-en-06     ما هو طعام كافتيريا المدرسة الشائع في الجزائر؟   \n",
       "3  Al-en-08  ما هي الوجبات الخفيفة التي يتناولها الناس في م...   \n",
       "4  Al-en-09  ما هي الوجبة الخفيفة الشعبية في مدينة الملاهي ...   \n",
       "\n",
       "                                         en_question  \\\n",
       "0  What is a common snack for preschool kids in A...   \n",
       "1         What is the most popular fruit in Algeria?   \n",
       "2  What is a common school cafeteria food in Alge...   \n",
       "3  What are the most commonly eaten snacks at sho...   \n",
       "4  What is a popular snack at an amusement park i...   \n",
       "\n",
       "                                         annotations  \\\n",
       "0  [{'answers': ['شطائر الخبز بالمربى', 'خبز بالم...   \n",
       "1  [{'answers': ['البرتقال'], 'en_answers': ['ora...   \n",
       "2  [{'answers': ['العدس'], 'en_answers': ['lentil...   \n",
       "3  [{'answers': ['بيتزا', 'البيتزا'], 'en_answers...   \n",
       "4  [{'answers': ['غزل البنات'], 'en_answers': ['c...   \n",
       "\n",
       "                                              idks Language  \n",
       "0  {'idk': 1, 'no-answer': 0, 'not-applicable': 0}   Arabic  \n",
       "1  {'idk': 0, 'no-answer': 0, 'not-applicable': 0}   Arabic  \n",
       "2  {'idk': 4, 'no-answer': 0, 'not-applicable': 0}   Arabic  \n",
       "3  {'idk': 0, 'no-answer': 0, 'not-applicable': 0}   Arabic  \n",
       "4  {'not-applicable': 2, 'idk': 0, 'no-answer': 0}   Arabic  "
      ]
     },
     "execution_count": 182,
     "metadata": {},
     "output_type": "execute_result"
    }
   ],
   "source": [
    "df.head()"
   ]
  },
  {
   "cell_type": "code",
   "execution_count": 183,
   "id": "62cb2588",
   "metadata": {},
   "outputs": [
    {
     "data": {
      "text/plain": [
       "idks\n",
       "{'idk': 0, 'no-answer': 0, 'not-applicable': 0}    2638\n",
       "{'idk': 1, 'no-answer': 0, 'not-applicable': 0}     464\n",
       "{'no-answer': 1, 'idk': 0, 'not-applicable': 0}     324\n",
       "{'no-answer': 1, 'idk': 1, 'not-applicable': 0}     158\n",
       "{'idk': 2, 'no-answer': 0, 'not-applicable': 0}     137\n",
       "{'no-answer': 2, 'idk': 0, 'not-applicable': 0}     128\n",
       "{'not-applicable': 1, 'idk': 0, 'no-answer': 0}     120\n",
       "{'idk': 2, 'no-answer': 1, 'not-applicable': 0}      74\n",
       "{'idk': 1, 'not-applicable': 1, 'no-answer': 0}      68\n",
       "{'idk': 3, 'no-answer': 0, 'not-applicable': 0}      52\n",
       "Name: count, dtype: int64"
      ]
     },
     "execution_count": 183,
     "metadata": {},
     "output_type": "execute_result"
    }
   ],
   "source": [
    "df[\"idks\"].value_counts()[:10]"
   ]
  },
  {
   "cell_type": "code",
   "execution_count": 184,
   "id": "8aa5d7da",
   "metadata": {},
   "outputs": [
    {
     "name": "stdout",
     "output_type": "stream",
     "text": [
      "3579\n"
     ]
    },
    {
     "data": {
      "application/vnd.microsoft.datawrangler.viewer.v0+json": {
       "columns": [
        {
         "name": "index",
         "rawType": "int64",
         "type": "integer"
        },
        {
         "name": "ID",
         "rawType": "object",
         "type": "string"
        },
        {
         "name": "question",
         "rawType": "object",
         "type": "string"
        },
        {
         "name": "en_question",
         "rawType": "object",
         "type": "string"
        },
        {
         "name": "annotations",
         "rawType": "object",
         "type": "unknown"
        },
        {
         "name": "idks",
         "rawType": "object",
         "type": "unknown"
        },
        {
         "name": "Language",
         "rawType": "object",
         "type": "string"
        },
        {
         "name": "problem_score",
         "rawType": "int64",
         "type": "integer"
        }
       ],
       "conversionMethod": "pd.DataFrame",
       "ref": "f692b4c4-055d-4695-8ff3-f4514a9f2cae",
       "rows": [
        [
         "0",
         "Al-en-01",
         "ماذا يأكل الأطفال كوجبة خفيفة قبل المدرسة في الجزائر؟",
         "What is a common snack for preschool kids in Algeria?",
         "[{'answers': ['شطائر الخبز بالمربى', 'خبز بالمربى والزبدة'], 'en_answers': ['jam sandwiches', 'jam and butter sandwiches'], 'count': 2}, {'answers': ['هلالية', 'كرواسان'], 'en_answers': ['croissant'], 'count': 1}, {'answers': ['حليب', 'الحليب'], 'en_answers': ['milk'], 'count': 1}, {'answers': ['اللمجة', 'لمجة'], 'en_answers': ['snack'], 'count': 1}]",
         "{'idk': 1, 'no-answer': 0, 'not-applicable': 0}",
         "Arabic",
         "1"
        ],
        [
         "1",
         "Al-en-04",
         "ما هي الفاكهة الأكثر شعبية في الجزائر؟",
         "What is the most popular fruit in Algeria?",
         "[{'answers': ['البرتقال'], 'en_answers': ['orange'], 'count': 5}, {'answers': ['التمر'], 'en_answers': ['dates'], 'count': 2}, {'answers': ['الموز'], 'en_answers': ['bananas'], 'count': 1}, {'answers': ['البطيخ'], 'en_answers': ['watermelon'], 'count': 1}]",
         "{'idk': 0, 'no-answer': 0, 'not-applicable': 0}",
         "Arabic",
         "0"
        ],
        [
         "2",
         "Al-en-08",
         "ما هي الوجبات الخفيفة التي يتناولها الناس في مراكز التسوق في الجزائر؟",
         "What are the most commonly eaten snacks at shopping malls in Algeria?",
         "[{'answers': ['بيتزا', 'البيتزا'], 'en_answers': ['pizza'], 'count': 3}, {'answers': ['همبرقر', 'برغر'], 'en_answers': ['hamburger', 'burger'], 'count': 2}, {'answers': ['شوارمة'], 'en_answers': ['shawarma'], 'count': 1}, {'answers': ['الآيس كريم'], 'en_answers': ['ice cream'], 'count': 1}, {'answers': ['سندويتش'], 'en_answers': ['sandwich'], 'count': 1}]",
         "{'idk': 0, 'no-answer': 0, 'not-applicable': 0}",
         "Arabic",
         "0"
        ],
        [
         "3",
         "Al-en-16",
         "في أي سن يبدأ الأطفال الذهاب للروضة في الجزائر؟ (استعمل الأرقام العربية فقط (مثلاً، 12.)",
         "At what age do kids start preschool in Algeria? (Provide Arabic numerals (e.g., 12) only.)",
         "[{'answers': ['3'], 'en_answers': ['3'], 'count': 3}, {'answers': ['4'], 'en_answers': ['4'], 'count': 2}, {'answers': ['1'], 'en_answers': ['1'], 'count': 1}]",
         "{'idk': 0, 'no-answer': 0, 'not-applicable': 0}",
         "Arabic",
         "0"
        ],
        [
         "4",
         "Al-en-17",
         "ما هو النشاط الرياضي المفضل بعد المدرسة لتلاميذ الابتدائي في الجزائر؟",
         "What is a popular afterschool sport for elementary schools in Algeria?",
         "[{'answers': ['كرة القدم'], 'en_answers': ['soccer', 'football'], 'count': 4}, {'answers': ['الركض'], 'en_answers': ['running'], 'count': 1}]",
         "{'idk': 0, 'no-answer': 0, 'not-applicable': 0}",
         "Arabic",
         "0"
        ]
       ],
       "shape": {
        "columns": 7,
        "rows": 5
       }
      },
      "text/html": [
       "<div>\n",
       "<style scoped>\n",
       "    .dataframe tbody tr th:only-of-type {\n",
       "        vertical-align: middle;\n",
       "    }\n",
       "\n",
       "    .dataframe tbody tr th {\n",
       "        vertical-align: top;\n",
       "    }\n",
       "\n",
       "    .dataframe thead th {\n",
       "        text-align: right;\n",
       "    }\n",
       "</style>\n",
       "<table border=\"1\" class=\"dataframe\">\n",
       "  <thead>\n",
       "    <tr style=\"text-align: right;\">\n",
       "      <th></th>\n",
       "      <th>ID</th>\n",
       "      <th>question</th>\n",
       "      <th>en_question</th>\n",
       "      <th>annotations</th>\n",
       "      <th>idks</th>\n",
       "      <th>Language</th>\n",
       "      <th>problem_score</th>\n",
       "    </tr>\n",
       "  </thead>\n",
       "  <tbody>\n",
       "    <tr>\n",
       "      <th>0</th>\n",
       "      <td>Al-en-01</td>\n",
       "      <td>ماذا يأكل الأطفال كوجبة خفيفة قبل المدرسة في ا...</td>\n",
       "      <td>What is a common snack for preschool kids in A...</td>\n",
       "      <td>[{'answers': ['شطائر الخبز بالمربى', 'خبز بالم...</td>\n",
       "      <td>{'idk': 1, 'no-answer': 0, 'not-applicable': 0}</td>\n",
       "      <td>Arabic</td>\n",
       "      <td>1</td>\n",
       "    </tr>\n",
       "    <tr>\n",
       "      <th>1</th>\n",
       "      <td>Al-en-04</td>\n",
       "      <td>ما هي الفاكهة الأكثر شعبية في الجزائر؟</td>\n",
       "      <td>What is the most popular fruit in Algeria?</td>\n",
       "      <td>[{'answers': ['البرتقال'], 'en_answers': ['ora...</td>\n",
       "      <td>{'idk': 0, 'no-answer': 0, 'not-applicable': 0}</td>\n",
       "      <td>Arabic</td>\n",
       "      <td>0</td>\n",
       "    </tr>\n",
       "    <tr>\n",
       "      <th>2</th>\n",
       "      <td>Al-en-08</td>\n",
       "      <td>ما هي الوجبات الخفيفة التي يتناولها الناس في م...</td>\n",
       "      <td>What are the most commonly eaten snacks at sho...</td>\n",
       "      <td>[{'answers': ['بيتزا', 'البيتزا'], 'en_answers...</td>\n",
       "      <td>{'idk': 0, 'no-answer': 0, 'not-applicable': 0}</td>\n",
       "      <td>Arabic</td>\n",
       "      <td>0</td>\n",
       "    </tr>\n",
       "    <tr>\n",
       "      <th>3</th>\n",
       "      <td>Al-en-16</td>\n",
       "      <td>في أي سن يبدأ الأطفال الذهاب للروضة في الجزائر...</td>\n",
       "      <td>At what age do kids start preschool in Algeria...</td>\n",
       "      <td>[{'answers': ['3'], 'en_answers': ['3'], 'coun...</td>\n",
       "      <td>{'idk': 0, 'no-answer': 0, 'not-applicable': 0}</td>\n",
       "      <td>Arabic</td>\n",
       "      <td>0</td>\n",
       "    </tr>\n",
       "    <tr>\n",
       "      <th>4</th>\n",
       "      <td>Al-en-17</td>\n",
       "      <td>ما هو النشاط الرياضي المفضل بعد المدرسة لتلامي...</td>\n",
       "      <td>What is a popular afterschool sport for elemen...</td>\n",
       "      <td>[{'answers': ['كرة القدم'], 'en_answers': ['so...</td>\n",
       "      <td>{'idk': 0, 'no-answer': 0, 'not-applicable': 0}</td>\n",
       "      <td>Arabic</td>\n",
       "      <td>0</td>\n",
       "    </tr>\n",
       "  </tbody>\n",
       "</table>\n",
       "</div>"
      ],
      "text/plain": [
       "         ID                                           question  \\\n",
       "0  Al-en-01  ماذا يأكل الأطفال كوجبة خفيفة قبل المدرسة في ا...   \n",
       "1  Al-en-04             ما هي الفاكهة الأكثر شعبية في الجزائر؟   \n",
       "2  Al-en-08  ما هي الوجبات الخفيفة التي يتناولها الناس في م...   \n",
       "3  Al-en-16  في أي سن يبدأ الأطفال الذهاب للروضة في الجزائر...   \n",
       "4  Al-en-17  ما هو النشاط الرياضي المفضل بعد المدرسة لتلامي...   \n",
       "\n",
       "                                         en_question  \\\n",
       "0  What is a common snack for preschool kids in A...   \n",
       "1         What is the most popular fruit in Algeria?   \n",
       "2  What are the most commonly eaten snacks at sho...   \n",
       "3  At what age do kids start preschool in Algeria...   \n",
       "4  What is a popular afterschool sport for elemen...   \n",
       "\n",
       "                                         annotations  \\\n",
       "0  [{'answers': ['شطائر الخبز بالمربى', 'خبز بالم...   \n",
       "1  [{'answers': ['البرتقال'], 'en_answers': ['ora...   \n",
       "2  [{'answers': ['بيتزا', 'البيتزا'], 'en_answers...   \n",
       "3  [{'answers': ['3'], 'en_answers': ['3'], 'coun...   \n",
       "4  [{'answers': ['كرة القدم'], 'en_answers': ['so...   \n",
       "\n",
       "                                              idks Language  problem_score  \n",
       "0  {'idk': 1, 'no-answer': 0, 'not-applicable': 0}   Arabic              1  \n",
       "1  {'idk': 0, 'no-answer': 0, 'not-applicable': 0}   Arabic              0  \n",
       "2  {'idk': 0, 'no-answer': 0, 'not-applicable': 0}   Arabic              0  \n",
       "3  {'idk': 0, 'no-answer': 0, 'not-applicable': 0}   Arabic              0  \n",
       "4  {'idk': 0, 'no-answer': 0, 'not-applicable': 0}   Arabic              0  "
      ]
     },
     "execution_count": 184,
     "metadata": {},
     "output_type": "execute_result"
    }
   ],
   "source": [
    "df[\"problem_score\"] = df[\"idks\"].apply(\n",
    "    lambda r: sum(r.values()),\n",
    ")\n",
    "df = df[df[\"problem_score\"] <= 1].copy().reset_index(drop=True) # no more than 1 vote excluding agreement in annotaters\n",
    "print(len(df))\n",
    "df.head()"
   ]
  },
  {
   "cell_type": "code",
   "execution_count": 185,
   "id": "57d42c18",
   "metadata": {},
   "outputs": [
    {
     "data": {
      "text/plain": [
       "idks\n",
       "{'idk': 0, 'no-answer': 0, 'not-applicable': 0}                                                                                                                                                      2638\n",
       "{'idk': 1, 'no-answer': 0, 'not-applicable': 0}                                                                                                                                                       464\n",
       "{'no-answer': 1, 'idk': 0, 'not-applicable': 0}                                                                                                                                                       324\n",
       "{'not-applicable': 1, 'idk': 0, 'no-answer': 0}                                                                                                                                                       120\n",
       "{'not sure': 1, 'idk': 0, 'no-answer': 0, 'not-applicable': 0}                                                                                                                                         20\n",
       "{'نمیدانم': 1, 'idk': 0, 'no-answer': 0, 'not-applicable': 0}                                                                                                                                           2\n",
       "{'δεν έχουμε': 1, 'idk': 0, 'no-answer': 0, 'not-applicable': 0}                                                                                                                                        1\n",
       "{'Δεν μπορω να καταλαβω τον ορο \"ψυχαγωγικη εγκατασταση\" αλλα αν το εννοείται  γενικα, αθλητικες εγκαταστασεις': 1, 'idk': 0, 'no-answer': 0, 'not-applicable': 0}                                      1\n",
       "{'Depends on the city and the university': 1, 'idk': 0, 'no-answer': 0, 'not-applicable': 0}                                                                                                            1\n",
       "{'ورزش نمی کنند': 1, 'idk': 0, 'no-answer': 0, 'not-applicable': 0}                                                                                                                                     1\n",
       "{'Αναλογα με την ημερα του θανατου, ο ανθρωπος μπορει να κηδευτει απο την επομενη εως και 2-3 μερες επειτα (εαν πχ πεθανει παρασκευη-σαββατο)': 1, 'idk': 0, 'no-answer': 0, 'not-applicable': 0}       1\n",
       "{'بستگی به رشته تحصیلی دبیرستان دارد.': 1, 'idk': 0, 'no-answer': 0, 'not-applicable': 0}                                                                                                               1\n",
       "{'부모의 판단에 의해 일을 시킴. 10살만 넘으면 일을 해야 한다고 생각': 1, 'idk': 0, 'no-answer': 0, 'not-applicable': 0}                                                                                                           1\n",
       "{'Not sure': 1, 'idk': 0, 'no-answer': 0, 'not-applicable': 0}                                                                                                                                          1\n",
       "{'Really varies and depends on economic condition': 1, 'idk': 0, 'no-answer': 0, 'not-applicable': 0}                                                                                                   1\n",
       "{'Not Sure': 1, 'idk': 0, 'no-answer': 0, 'not-applicable': 0}                                                                                                                                          1\n",
       "{'Really varies': 1, 'idk': 0, 'no-answer': 0, 'not-applicable': 0}                                                                                                                                     1\n",
       "Name: count, dtype: int64"
      ]
     },
     "execution_count": 185,
     "metadata": {},
     "output_type": "execute_result"
    }
   ],
   "source": [
    "df[\"idks\"].value_counts()"
   ]
  },
  {
   "cell_type": "code",
   "execution_count": 186,
   "id": "f17ef76f",
   "metadata": {},
   "outputs": [
    {
     "data": {
      "text/plain": [
       "array(['Arabic', 'Assamese', 'Azerbaijani', 'Amharic', 'Greek', 'Persian',\n",
       "       'Korean', 'Hausa', 'Sundanese'], dtype=object)"
      ]
     },
     "execution_count": 186,
     "metadata": {},
     "output_type": "execute_result"
    }
   ],
   "source": [
    "df[\"Language\"].unique()"
   ]
  },
  {
   "cell_type": "code",
   "execution_count": 187,
   "id": "eec2c7c0",
   "metadata": {},
   "outputs": [],
   "source": [
    "df = df.drop(columns=[\"problem_score\", \"idks\"])"
   ]
  },
  {
   "cell_type": "code",
   "execution_count": 188,
   "id": "7c1899e2",
   "metadata": {},
   "outputs": [],
   "source": [
    "en_q = df.copy()\n",
    "x_q = df.copy()"
   ]
  },
  {
   "cell_type": "code",
   "execution_count": 189,
   "id": "49d58bff",
   "metadata": {},
   "outputs": [
    {
     "name": "stdout",
     "output_type": "stream",
     "text": [
      "ماذا يأكل الأطفال كوجبة خفيفة قبل المدرسة في الجزائر؟\n",
      "What is a common snack for preschool kids in Algeria?\n"
     ]
    },
    {
     "data": {
      "text/plain": [
       "[{'answers': ['شطائر الخبز بالمربى', 'خبز بالمربى والزبدة'],\n",
       "  'en_answers': ['jam sandwiches', 'jam and butter sandwiches'],\n",
       "  'count': 2},\n",
       " {'answers': ['هلالية', 'كرواسان'], 'en_answers': ['croissant'], 'count': 1},\n",
       " {'answers': ['حليب', 'الحليب'], 'en_answers': ['milk'], 'count': 1},\n",
       " {'answers': ['اللمجة', 'لمجة'], 'en_answers': ['snack'], 'count': 1}]"
      ]
     },
     "execution_count": 189,
     "metadata": {},
     "output_type": "execute_result"
    }
   ],
   "source": [
    "n = 0\n",
    "print(df.loc[n, \"question\"])\n",
    "print(df.loc[n, \"en_question\"])\n",
    "df.loc[n, \"annotations\"]"
   ]
  },
  {
   "cell_type": "code",
   "execution_count": 190,
   "id": "0aacdf39",
   "metadata": {},
   "outputs": [],
   "source": [
    "def extract_annotated_answers(annotations_list, col):\n",
    "    answers = [s for d in annotations_list for s in d[col]]\n",
    "    return answers"
   ]
  },
  {
   "cell_type": "code",
   "execution_count": 191,
   "id": "cdc753df",
   "metadata": {},
   "outputs": [
    {
     "data": {
      "text/plain": [
       "ID                                                      Al-en-01\n",
       "question       ماذا يأكل الأطفال كوجبة خفيفة قبل المدرسة في ا...\n",
       "en_question    What is a common snack for preschool kids in A...\n",
       "annotations    [{'answers': ['شطائر الخبز بالمربى', 'خبز بالم...\n",
       "Language                                                  Arabic\n",
       "Name: 0, dtype: object"
      ]
     },
     "execution_count": 191,
     "metadata": {},
     "output_type": "execute_result"
    }
   ],
   "source": [
    "df.loc[0]"
   ]
  },
  {
   "cell_type": "code",
   "execution_count": 192,
   "id": "da9a0124",
   "metadata": {},
   "outputs": [
    {
     "name": "stderr",
     "output_type": "stream",
     "text": [
      "100%|███████████████████████████████████████████████████████| 3579/3579 [00:00<00:00, 505571.00it/s]\n",
      "100%|███████████████████████████████████████████████████████| 3579/3579 [00:00<00:00, 444954.03it/s]\n"
     ]
    }
   ],
   "source": [
    "from tqdm import tqdm\n",
    "\n",
    "tqdm.pandas(ncols=100)\n",
    "\n",
    "en_q[\"ground_truth\"] = en_q[\"annotations\"].progress_apply(\n",
    "    lambda r: extract_annotated_answers(r, \"answers\"),\n",
    ")\n",
    "\n",
    "x_q[\"ground_truth\"] = x_q[\"annotations\"].progress_apply(\n",
    "    lambda r: extract_annotated_answers(r, \"en_answers\"),\n",
    ")"
   ]
  },
  {
   "cell_type": "code",
   "execution_count": 193,
   "id": "c9d54ff1",
   "metadata": {},
   "outputs": [
    {
     "data": {
      "application/vnd.microsoft.datawrangler.viewer.v0+json": {
       "columns": [
        {
         "name": "index",
         "rawType": "int64",
         "type": "integer"
        },
        {
         "name": "ID",
         "rawType": "object",
         "type": "string"
        },
        {
         "name": "question",
         "rawType": "object",
         "type": "string"
        },
        {
         "name": "en_question",
         "rawType": "object",
         "type": "string"
        },
        {
         "name": "annotations",
         "rawType": "object",
         "type": "unknown"
        },
        {
         "name": "Language",
         "rawType": "object",
         "type": "string"
        },
        {
         "name": "ground_truth",
         "rawType": "object",
         "type": "unknown"
        }
       ],
       "conversionMethod": "pd.DataFrame",
       "ref": "d87d5ae3-5a49-4195-87e2-2897426de804",
       "rows": [
        [
         "0",
         "Al-en-01",
         "ماذا يأكل الأطفال كوجبة خفيفة قبل المدرسة في الجزائر؟",
         "What is a common snack for preschool kids in Algeria?",
         "[{'answers': ['شطائر الخبز بالمربى', 'خبز بالمربى والزبدة'], 'en_answers': ['jam sandwiches', 'jam and butter sandwiches'], 'count': 2}, {'answers': ['هلالية', 'كرواسان'], 'en_answers': ['croissant'], 'count': 1}, {'answers': ['حليب', 'الحليب'], 'en_answers': ['milk'], 'count': 1}, {'answers': ['اللمجة', 'لمجة'], 'en_answers': ['snack'], 'count': 1}]",
         "Arabic",
         "['شطائر الخبز بالمربى', 'خبز بالمربى والزبدة', 'هلالية', 'كرواسان', 'حليب', 'الحليب', 'اللمجة', 'لمجة']"
        ],
        [
         "1",
         "Al-en-04",
         "ما هي الفاكهة الأكثر شعبية في الجزائر؟",
         "What is the most popular fruit in Algeria?",
         "[{'answers': ['البرتقال'], 'en_answers': ['orange'], 'count': 5}, {'answers': ['التمر'], 'en_answers': ['dates'], 'count': 2}, {'answers': ['الموز'], 'en_answers': ['bananas'], 'count': 1}, {'answers': ['البطيخ'], 'en_answers': ['watermelon'], 'count': 1}]",
         "Arabic",
         "['البرتقال', 'التمر', 'الموز', 'البطيخ']"
        ],
        [
         "2",
         "Al-en-08",
         "ما هي الوجبات الخفيفة التي يتناولها الناس في مراكز التسوق في الجزائر؟",
         "What are the most commonly eaten snacks at shopping malls in Algeria?",
         "[{'answers': ['بيتزا', 'البيتزا'], 'en_answers': ['pizza'], 'count': 3}, {'answers': ['همبرقر', 'برغر'], 'en_answers': ['hamburger', 'burger'], 'count': 2}, {'answers': ['شوارمة'], 'en_answers': ['shawarma'], 'count': 1}, {'answers': ['الآيس كريم'], 'en_answers': ['ice cream'], 'count': 1}, {'answers': ['سندويتش'], 'en_answers': ['sandwich'], 'count': 1}]",
         "Arabic",
         "['بيتزا', 'البيتزا', 'همبرقر', 'برغر', 'شوارمة', 'الآيس كريم', 'سندويتش']"
        ],
        [
         "3",
         "Al-en-16",
         "في أي سن يبدأ الأطفال الذهاب للروضة في الجزائر؟ (استعمل الأرقام العربية فقط (مثلاً، 12.)",
         "At what age do kids start preschool in Algeria? (Provide Arabic numerals (e.g., 12) only.)",
         "[{'answers': ['3'], 'en_answers': ['3'], 'count': 3}, {'answers': ['4'], 'en_answers': ['4'], 'count': 2}, {'answers': ['1'], 'en_answers': ['1'], 'count': 1}]",
         "Arabic",
         "['3', '4', '1']"
        ],
        [
         "4",
         "Al-en-17",
         "ما هو النشاط الرياضي المفضل بعد المدرسة لتلاميذ الابتدائي في الجزائر؟",
         "What is a popular afterschool sport for elementary schools in Algeria?",
         "[{'answers': ['كرة القدم'], 'en_answers': ['soccer', 'football'], 'count': 4}, {'answers': ['الركض'], 'en_answers': ['running'], 'count': 1}]",
         "Arabic",
         "['كرة القدم', 'الركض']"
        ]
       ],
       "shape": {
        "columns": 6,
        "rows": 5
       }
      },
      "text/html": [
       "<div>\n",
       "<style scoped>\n",
       "    .dataframe tbody tr th:only-of-type {\n",
       "        vertical-align: middle;\n",
       "    }\n",
       "\n",
       "    .dataframe tbody tr th {\n",
       "        vertical-align: top;\n",
       "    }\n",
       "\n",
       "    .dataframe thead th {\n",
       "        text-align: right;\n",
       "    }\n",
       "</style>\n",
       "<table border=\"1\" class=\"dataframe\">\n",
       "  <thead>\n",
       "    <tr style=\"text-align: right;\">\n",
       "      <th></th>\n",
       "      <th>ID</th>\n",
       "      <th>question</th>\n",
       "      <th>en_question</th>\n",
       "      <th>annotations</th>\n",
       "      <th>Language</th>\n",
       "      <th>ground_truth</th>\n",
       "    </tr>\n",
       "  </thead>\n",
       "  <tbody>\n",
       "    <tr>\n",
       "      <th>0</th>\n",
       "      <td>Al-en-01</td>\n",
       "      <td>ماذا يأكل الأطفال كوجبة خفيفة قبل المدرسة في ا...</td>\n",
       "      <td>What is a common snack for preschool kids in A...</td>\n",
       "      <td>[{'answers': ['شطائر الخبز بالمربى', 'خبز بالم...</td>\n",
       "      <td>Arabic</td>\n",
       "      <td>[شطائر الخبز بالمربى, خبز بالمربى والزبدة, هلا...</td>\n",
       "    </tr>\n",
       "    <tr>\n",
       "      <th>1</th>\n",
       "      <td>Al-en-04</td>\n",
       "      <td>ما هي الفاكهة الأكثر شعبية في الجزائر؟</td>\n",
       "      <td>What is the most popular fruit in Algeria?</td>\n",
       "      <td>[{'answers': ['البرتقال'], 'en_answers': ['ora...</td>\n",
       "      <td>Arabic</td>\n",
       "      <td>[البرتقال, التمر, الموز, البطيخ]</td>\n",
       "    </tr>\n",
       "    <tr>\n",
       "      <th>2</th>\n",
       "      <td>Al-en-08</td>\n",
       "      <td>ما هي الوجبات الخفيفة التي يتناولها الناس في م...</td>\n",
       "      <td>What are the most commonly eaten snacks at sho...</td>\n",
       "      <td>[{'answers': ['بيتزا', 'البيتزا'], 'en_answers...</td>\n",
       "      <td>Arabic</td>\n",
       "      <td>[بيتزا, البيتزا, همبرقر, برغر, شوارمة, الآيس ك...</td>\n",
       "    </tr>\n",
       "    <tr>\n",
       "      <th>3</th>\n",
       "      <td>Al-en-16</td>\n",
       "      <td>في أي سن يبدأ الأطفال الذهاب للروضة في الجزائر...</td>\n",
       "      <td>At what age do kids start preschool in Algeria...</td>\n",
       "      <td>[{'answers': ['3'], 'en_answers': ['3'], 'coun...</td>\n",
       "      <td>Arabic</td>\n",
       "      <td>[3, 4, 1]</td>\n",
       "    </tr>\n",
       "    <tr>\n",
       "      <th>4</th>\n",
       "      <td>Al-en-17</td>\n",
       "      <td>ما هو النشاط الرياضي المفضل بعد المدرسة لتلامي...</td>\n",
       "      <td>What is a popular afterschool sport for elemen...</td>\n",
       "      <td>[{'answers': ['كرة القدم'], 'en_answers': ['so...</td>\n",
       "      <td>Arabic</td>\n",
       "      <td>[كرة القدم, الركض]</td>\n",
       "    </tr>\n",
       "  </tbody>\n",
       "</table>\n",
       "</div>"
      ],
      "text/plain": [
       "         ID                                           question  \\\n",
       "0  Al-en-01  ماذا يأكل الأطفال كوجبة خفيفة قبل المدرسة في ا...   \n",
       "1  Al-en-04             ما هي الفاكهة الأكثر شعبية في الجزائر؟   \n",
       "2  Al-en-08  ما هي الوجبات الخفيفة التي يتناولها الناس في م...   \n",
       "3  Al-en-16  في أي سن يبدأ الأطفال الذهاب للروضة في الجزائر...   \n",
       "4  Al-en-17  ما هو النشاط الرياضي المفضل بعد المدرسة لتلامي...   \n",
       "\n",
       "                                         en_question  \\\n",
       "0  What is a common snack for preschool kids in A...   \n",
       "1         What is the most popular fruit in Algeria?   \n",
       "2  What are the most commonly eaten snacks at sho...   \n",
       "3  At what age do kids start preschool in Algeria...   \n",
       "4  What is a popular afterschool sport for elemen...   \n",
       "\n",
       "                                         annotations Language  \\\n",
       "0  [{'answers': ['شطائر الخبز بالمربى', 'خبز بالم...   Arabic   \n",
       "1  [{'answers': ['البرتقال'], 'en_answers': ['ora...   Arabic   \n",
       "2  [{'answers': ['بيتزا', 'البيتزا'], 'en_answers...   Arabic   \n",
       "3  [{'answers': ['3'], 'en_answers': ['3'], 'coun...   Arabic   \n",
       "4  [{'answers': ['كرة القدم'], 'en_answers': ['so...   Arabic   \n",
       "\n",
       "                                        ground_truth  \n",
       "0  [شطائر الخبز بالمربى, خبز بالمربى والزبدة, هلا...  \n",
       "1                   [البرتقال, التمر, الموز, البطيخ]  \n",
       "2  [بيتزا, البيتزا, همبرقر, برغر, شوارمة, الآيس ك...  \n",
       "3                                          [3, 4, 1]  \n",
       "4                                 [كرة القدم, الركض]  "
      ]
     },
     "execution_count": 193,
     "metadata": {},
     "output_type": "execute_result"
    }
   ],
   "source": [
    "en_q.head()"
   ]
  },
  {
   "cell_type": "code",
   "execution_count": 194,
   "id": "8fe6dbb9",
   "metadata": {},
   "outputs": [
    {
     "data": {
      "application/vnd.microsoft.datawrangler.viewer.v0+json": {
       "columns": [
        {
         "name": "index",
         "rawType": "int64",
         "type": "integer"
        },
        {
         "name": "ID",
         "rawType": "object",
         "type": "string"
        },
        {
         "name": "question",
         "rawType": "object",
         "type": "string"
        },
        {
         "name": "en_question",
         "rawType": "object",
         "type": "string"
        },
        {
         "name": "annotations",
         "rawType": "object",
         "type": "unknown"
        },
        {
         "name": "Language",
         "rawType": "object",
         "type": "string"
        },
        {
         "name": "ground_truth",
         "rawType": "object",
         "type": "unknown"
        }
       ],
       "conversionMethod": "pd.DataFrame",
       "ref": "7ecd253a-485c-4a68-9bc4-a43c6093b754",
       "rows": [
        [
         "0",
         "Al-en-01",
         "ماذا يأكل الأطفال كوجبة خفيفة قبل المدرسة في الجزائر؟",
         "What is a common snack for preschool kids in Algeria?",
         "[{'answers': ['شطائر الخبز بالمربى', 'خبز بالمربى والزبدة'], 'en_answers': ['jam sandwiches', 'jam and butter sandwiches'], 'count': 2}, {'answers': ['هلالية', 'كرواسان'], 'en_answers': ['croissant'], 'count': 1}, {'answers': ['حليب', 'الحليب'], 'en_answers': ['milk'], 'count': 1}, {'answers': ['اللمجة', 'لمجة'], 'en_answers': ['snack'], 'count': 1}]",
         "Arabic",
         "['jam sandwiches', 'jam and butter sandwiches', 'croissant', 'milk', 'snack']"
        ],
        [
         "1",
         "Al-en-04",
         "ما هي الفاكهة الأكثر شعبية في الجزائر؟",
         "What is the most popular fruit in Algeria?",
         "[{'answers': ['البرتقال'], 'en_answers': ['orange'], 'count': 5}, {'answers': ['التمر'], 'en_answers': ['dates'], 'count': 2}, {'answers': ['الموز'], 'en_answers': ['bananas'], 'count': 1}, {'answers': ['البطيخ'], 'en_answers': ['watermelon'], 'count': 1}]",
         "Arabic",
         "['orange', 'dates', 'bananas', 'watermelon']"
        ],
        [
         "2",
         "Al-en-08",
         "ما هي الوجبات الخفيفة التي يتناولها الناس في مراكز التسوق في الجزائر؟",
         "What are the most commonly eaten snacks at shopping malls in Algeria?",
         "[{'answers': ['بيتزا', 'البيتزا'], 'en_answers': ['pizza'], 'count': 3}, {'answers': ['همبرقر', 'برغر'], 'en_answers': ['hamburger', 'burger'], 'count': 2}, {'answers': ['شوارمة'], 'en_answers': ['shawarma'], 'count': 1}, {'answers': ['الآيس كريم'], 'en_answers': ['ice cream'], 'count': 1}, {'answers': ['سندويتش'], 'en_answers': ['sandwich'], 'count': 1}]",
         "Arabic",
         "['pizza', 'hamburger', 'burger', 'shawarma', 'ice cream', 'sandwich']"
        ],
        [
         "3",
         "Al-en-16",
         "في أي سن يبدأ الأطفال الذهاب للروضة في الجزائر؟ (استعمل الأرقام العربية فقط (مثلاً، 12.)",
         "At what age do kids start preschool in Algeria? (Provide Arabic numerals (e.g., 12) only.)",
         "[{'answers': ['3'], 'en_answers': ['3'], 'count': 3}, {'answers': ['4'], 'en_answers': ['4'], 'count': 2}, {'answers': ['1'], 'en_answers': ['1'], 'count': 1}]",
         "Arabic",
         "['3', '4', '1']"
        ],
        [
         "4",
         "Al-en-17",
         "ما هو النشاط الرياضي المفضل بعد المدرسة لتلاميذ الابتدائي في الجزائر؟",
         "What is a popular afterschool sport for elementary schools in Algeria?",
         "[{'answers': ['كرة القدم'], 'en_answers': ['soccer', 'football'], 'count': 4}, {'answers': ['الركض'], 'en_answers': ['running'], 'count': 1}]",
         "Arabic",
         "['soccer', 'football', 'running']"
        ]
       ],
       "shape": {
        "columns": 6,
        "rows": 5
       }
      },
      "text/html": [
       "<div>\n",
       "<style scoped>\n",
       "    .dataframe tbody tr th:only-of-type {\n",
       "        vertical-align: middle;\n",
       "    }\n",
       "\n",
       "    .dataframe tbody tr th {\n",
       "        vertical-align: top;\n",
       "    }\n",
       "\n",
       "    .dataframe thead th {\n",
       "        text-align: right;\n",
       "    }\n",
       "</style>\n",
       "<table border=\"1\" class=\"dataframe\">\n",
       "  <thead>\n",
       "    <tr style=\"text-align: right;\">\n",
       "      <th></th>\n",
       "      <th>ID</th>\n",
       "      <th>question</th>\n",
       "      <th>en_question</th>\n",
       "      <th>annotations</th>\n",
       "      <th>Language</th>\n",
       "      <th>ground_truth</th>\n",
       "    </tr>\n",
       "  </thead>\n",
       "  <tbody>\n",
       "    <tr>\n",
       "      <th>0</th>\n",
       "      <td>Al-en-01</td>\n",
       "      <td>ماذا يأكل الأطفال كوجبة خفيفة قبل المدرسة في ا...</td>\n",
       "      <td>What is a common snack for preschool kids in A...</td>\n",
       "      <td>[{'answers': ['شطائر الخبز بالمربى', 'خبز بالم...</td>\n",
       "      <td>Arabic</td>\n",
       "      <td>[jam sandwiches, jam and butter sandwiches, cr...</td>\n",
       "    </tr>\n",
       "    <tr>\n",
       "      <th>1</th>\n",
       "      <td>Al-en-04</td>\n",
       "      <td>ما هي الفاكهة الأكثر شعبية في الجزائر؟</td>\n",
       "      <td>What is the most popular fruit in Algeria?</td>\n",
       "      <td>[{'answers': ['البرتقال'], 'en_answers': ['ora...</td>\n",
       "      <td>Arabic</td>\n",
       "      <td>[orange, dates, bananas, watermelon]</td>\n",
       "    </tr>\n",
       "    <tr>\n",
       "      <th>2</th>\n",
       "      <td>Al-en-08</td>\n",
       "      <td>ما هي الوجبات الخفيفة التي يتناولها الناس في م...</td>\n",
       "      <td>What are the most commonly eaten snacks at sho...</td>\n",
       "      <td>[{'answers': ['بيتزا', 'البيتزا'], 'en_answers...</td>\n",
       "      <td>Arabic</td>\n",
       "      <td>[pizza, hamburger, burger, shawarma, ice cream...</td>\n",
       "    </tr>\n",
       "    <tr>\n",
       "      <th>3</th>\n",
       "      <td>Al-en-16</td>\n",
       "      <td>في أي سن يبدأ الأطفال الذهاب للروضة في الجزائر...</td>\n",
       "      <td>At what age do kids start preschool in Algeria...</td>\n",
       "      <td>[{'answers': ['3'], 'en_answers': ['3'], 'coun...</td>\n",
       "      <td>Arabic</td>\n",
       "      <td>[3, 4, 1]</td>\n",
       "    </tr>\n",
       "    <tr>\n",
       "      <th>4</th>\n",
       "      <td>Al-en-17</td>\n",
       "      <td>ما هو النشاط الرياضي المفضل بعد المدرسة لتلامي...</td>\n",
       "      <td>What is a popular afterschool sport for elemen...</td>\n",
       "      <td>[{'answers': ['كرة القدم'], 'en_answers': ['so...</td>\n",
       "      <td>Arabic</td>\n",
       "      <td>[soccer, football, running]</td>\n",
       "    </tr>\n",
       "  </tbody>\n",
       "</table>\n",
       "</div>"
      ],
      "text/plain": [
       "         ID                                           question  \\\n",
       "0  Al-en-01  ماذا يأكل الأطفال كوجبة خفيفة قبل المدرسة في ا...   \n",
       "1  Al-en-04             ما هي الفاكهة الأكثر شعبية في الجزائر؟   \n",
       "2  Al-en-08  ما هي الوجبات الخفيفة التي يتناولها الناس في م...   \n",
       "3  Al-en-16  في أي سن يبدأ الأطفال الذهاب للروضة في الجزائر...   \n",
       "4  Al-en-17  ما هو النشاط الرياضي المفضل بعد المدرسة لتلامي...   \n",
       "\n",
       "                                         en_question  \\\n",
       "0  What is a common snack for preschool kids in A...   \n",
       "1         What is the most popular fruit in Algeria?   \n",
       "2  What are the most commonly eaten snacks at sho...   \n",
       "3  At what age do kids start preschool in Algeria...   \n",
       "4  What is a popular afterschool sport for elemen...   \n",
       "\n",
       "                                         annotations Language  \\\n",
       "0  [{'answers': ['شطائر الخبز بالمربى', 'خبز بالم...   Arabic   \n",
       "1  [{'answers': ['البرتقال'], 'en_answers': ['ora...   Arabic   \n",
       "2  [{'answers': ['بيتزا', 'البيتزا'], 'en_answers...   Arabic   \n",
       "3  [{'answers': ['3'], 'en_answers': ['3'], 'coun...   Arabic   \n",
       "4  [{'answers': ['كرة القدم'], 'en_answers': ['so...   Arabic   \n",
       "\n",
       "                                        ground_truth  \n",
       "0  [jam sandwiches, jam and butter sandwiches, cr...  \n",
       "1               [orange, dates, bananas, watermelon]  \n",
       "2  [pizza, hamburger, burger, shawarma, ice cream...  \n",
       "3                                          [3, 4, 1]  \n",
       "4                        [soccer, football, running]  "
      ]
     },
     "execution_count": 194,
     "metadata": {},
     "output_type": "execute_result"
    }
   ],
   "source": [
    "x_q.head()"
   ]
  },
  {
   "cell_type": "code",
   "execution_count": 195,
   "id": "e7c3297f",
   "metadata": {},
   "outputs": [
    {
     "name": "stdout",
     "output_type": "stream",
     "text": [
      "3579 Index(['ID', 'Question', 'Language', 'ground_truth'], dtype='object')\n",
      "3579 Index(['ID', 'Question', 'Language', 'ground_truth'], dtype='object')\n"
     ]
    }
   ],
   "source": [
    "en_q = en_q.drop(columns=[\"annotations\", \"question\"])\n",
    "en_q = en_q.rename(\n",
    "    columns={\"en_question\": \"Question\"}\n",
    ")\n",
    "x_q = x_q.drop(columns=[\"annotations\", \"en_question\"])\n",
    "x_q = x_q.rename(\n",
    "    columns={\"question\": \"Question\"}\n",
    ")\n",
    "print(len(en_q), en_q.columns)\n",
    "print(len(x_q), x_q.columns)"
   ]
  },
  {
   "cell_type": "code",
   "execution_count": 196,
   "id": "650f1275",
   "metadata": {},
   "outputs": [
    {
     "data": {
      "application/vnd.microsoft.datawrangler.viewer.v0+json": {
       "columns": [
        {
         "name": "index",
         "rawType": "int64",
         "type": "integer"
        },
        {
         "name": "ID",
         "rawType": "object",
         "type": "string"
        },
        {
         "name": "Question",
         "rawType": "object",
         "type": "string"
        },
        {
         "name": "Language",
         "rawType": "object",
         "type": "string"
        },
        {
         "name": "ground_truth",
         "rawType": "object",
         "type": "unknown"
        }
       ],
       "conversionMethod": "pd.DataFrame",
       "ref": "d9075dcc-34cc-4f3b-9bdb-bc67ae65af2c",
       "rows": [
        [
         "0",
         "Al-en-01",
         "What is a common snack for preschool kids in Algeria?",
         "Arabic",
         "['شطائر الخبز بالمربى', 'خبز بالمربى والزبدة', 'هلالية', 'كرواسان', 'حليب', 'الحليب', 'اللمجة', 'لمجة']"
        ]
       ],
       "shape": {
        "columns": 4,
        "rows": 1
       }
      },
      "text/html": [
       "<div>\n",
       "<style scoped>\n",
       "    .dataframe tbody tr th:only-of-type {\n",
       "        vertical-align: middle;\n",
       "    }\n",
       "\n",
       "    .dataframe tbody tr th {\n",
       "        vertical-align: top;\n",
       "    }\n",
       "\n",
       "    .dataframe thead th {\n",
       "        text-align: right;\n",
       "    }\n",
       "</style>\n",
       "<table border=\"1\" class=\"dataframe\">\n",
       "  <thead>\n",
       "    <tr style=\"text-align: right;\">\n",
       "      <th></th>\n",
       "      <th>ID</th>\n",
       "      <th>Question</th>\n",
       "      <th>Language</th>\n",
       "      <th>ground_truth</th>\n",
       "    </tr>\n",
       "  </thead>\n",
       "  <tbody>\n",
       "    <tr>\n",
       "      <th>0</th>\n",
       "      <td>Al-en-01</td>\n",
       "      <td>What is a common snack for preschool kids in A...</td>\n",
       "      <td>Arabic</td>\n",
       "      <td>[شطائر الخبز بالمربى, خبز بالمربى والزبدة, هلا...</td>\n",
       "    </tr>\n",
       "  </tbody>\n",
       "</table>\n",
       "</div>"
      ],
      "text/plain": [
       "         ID                                           Question Language  \\\n",
       "0  Al-en-01  What is a common snack for preschool kids in A...   Arabic   \n",
       "\n",
       "                                        ground_truth  \n",
       "0  [شطائر الخبز بالمربى, خبز بالمربى والزبدة, هلا...  "
      ]
     },
     "execution_count": 196,
     "metadata": {},
     "output_type": "execute_result"
    }
   ],
   "source": [
    "en_q.head(1)"
   ]
  },
  {
   "cell_type": "code",
   "execution_count": null,
   "id": "8a76f94f",
   "metadata": {},
   "outputs": [],
   "source": [
    "# en_q.to_parquet(\n",
    "#     r\"C:\\Users\\nikol\\OneDrive\\Desktop\\project_repos\\CMLEval\\data\\enQ_xA\\BLEnD.parquet.gzip\",\n",
    "#     index=False,\n",
    "#     compression=\"gzip\",\n",
    "# )"
   ]
  },
  {
   "cell_type": "code",
   "execution_count": 199,
   "id": "1d60e19f",
   "metadata": {},
   "outputs": [
    {
     "data": {
      "application/vnd.microsoft.datawrangler.viewer.v0+json": {
       "columns": [
        {
         "name": "index",
         "rawType": "int64",
         "type": "integer"
        },
        {
         "name": "ID",
         "rawType": "object",
         "type": "string"
        },
        {
         "name": "Question",
         "rawType": "object",
         "type": "string"
        },
        {
         "name": "Language",
         "rawType": "object",
         "type": "string"
        },
        {
         "name": "ground_truth",
         "rawType": "object",
         "type": "unknown"
        }
       ],
       "conversionMethod": "pd.DataFrame",
       "ref": "bca6cd2e-25b1-47ff-b5f4-9c99bd8336bd",
       "rows": [
        [
         "0",
         "Al-en-01",
         "ماذا يأكل الأطفال كوجبة خفيفة قبل المدرسة في الجزائر؟",
         "Arabic",
         "['jam sandwiches', 'jam and butter sandwiches', 'croissant', 'milk', 'snack']"
        ]
       ],
       "shape": {
        "columns": 4,
        "rows": 1
       }
      },
      "text/html": [
       "<div>\n",
       "<style scoped>\n",
       "    .dataframe tbody tr th:only-of-type {\n",
       "        vertical-align: middle;\n",
       "    }\n",
       "\n",
       "    .dataframe tbody tr th {\n",
       "        vertical-align: top;\n",
       "    }\n",
       "\n",
       "    .dataframe thead th {\n",
       "        text-align: right;\n",
       "    }\n",
       "</style>\n",
       "<table border=\"1\" class=\"dataframe\">\n",
       "  <thead>\n",
       "    <tr style=\"text-align: right;\">\n",
       "      <th></th>\n",
       "      <th>ID</th>\n",
       "      <th>Question</th>\n",
       "      <th>Language</th>\n",
       "      <th>ground_truth</th>\n",
       "    </tr>\n",
       "  </thead>\n",
       "  <tbody>\n",
       "    <tr>\n",
       "      <th>0</th>\n",
       "      <td>Al-en-01</td>\n",
       "      <td>ماذا يأكل الأطفال كوجبة خفيفة قبل المدرسة في ا...</td>\n",
       "      <td>Arabic</td>\n",
       "      <td>[jam sandwiches, jam and butter sandwiches, cr...</td>\n",
       "    </tr>\n",
       "  </tbody>\n",
       "</table>\n",
       "</div>"
      ],
      "text/plain": [
       "         ID                                           Question Language  \\\n",
       "0  Al-en-01  ماذا يأكل الأطفال كوجبة خفيفة قبل المدرسة في ا...   Arabic   \n",
       "\n",
       "                                        ground_truth  \n",
       "0  [jam sandwiches, jam and butter sandwiches, cr...  "
      ]
     },
     "execution_count": 199,
     "metadata": {},
     "output_type": "execute_result"
    }
   ],
   "source": [
    "x_q.head(1)"
   ]
  },
  {
   "cell_type": "code",
   "execution_count": null,
   "id": "75ef6159",
   "metadata": {},
   "outputs": [],
   "source": [
    "# x_q.to_parquet(\n",
    "#     r\"C:\\Users\\nikol\\OneDrive\\Desktop\\project_repos\\CMLEval\\data\\xQ_enA\\BLEnD.parquet.gzip\",\n",
    "#     index=False,\n",
    "#     compression=\"gzip\",\n",
    "# )"
   ]
  },
  {
   "cell_type": "markdown",
   "id": "a668ee20",
   "metadata": {},
   "source": [
    "# Short answer QA metric calculation"
   ]
  },
  {
   "cell_type": "code",
   "execution_count": 158,
   "id": "f93411f1",
   "metadata": {},
   "outputs": [
    {
     "name": "stdout",
     "output_type": "stream",
     "text": [
      "5251\n"
     ]
    },
    {
     "data": {
      "application/vnd.microsoft.datawrangler.viewer.v0+json": {
       "columns": [
        {
         "name": "index",
         "rawType": "int64",
         "type": "integer"
        },
        {
         "name": "ID",
         "rawType": "object",
         "type": "string"
        },
        {
         "name": "Question",
         "rawType": "object",
         "type": "string"
        },
        {
         "name": "Language",
         "rawType": "object",
         "type": "string"
        },
        {
         "name": "ground_truth",
         "rawType": "object",
         "type": "unknown"
        }
       ],
       "conversionMethod": "pd.DataFrame",
       "ref": "086b0507-ec08-4a8c-af65-cf664cf3d41e",
       "rows": [
        [
         "0",
         "Al-en-01",
         "What is a common snack for preschool kids in Algeria?",
         "Arabic",
         "['شطائر الخبز بالمربى' 'خبز بالمربى والزبدة' 'هلالية' 'كرواسان' 'حليب'\n 'الحليب' 'اللمجة' 'لمجة']"
        ]
       ],
       "shape": {
        "columns": 4,
        "rows": 1
       }
      },
      "text/html": [
       "<div>\n",
       "<style scoped>\n",
       "    .dataframe tbody tr th:only-of-type {\n",
       "        vertical-align: middle;\n",
       "    }\n",
       "\n",
       "    .dataframe tbody tr th {\n",
       "        vertical-align: top;\n",
       "    }\n",
       "\n",
       "    .dataframe thead th {\n",
       "        text-align: right;\n",
       "    }\n",
       "</style>\n",
       "<table border=\"1\" class=\"dataframe\">\n",
       "  <thead>\n",
       "    <tr style=\"text-align: right;\">\n",
       "      <th></th>\n",
       "      <th>ID</th>\n",
       "      <th>Question</th>\n",
       "      <th>Language</th>\n",
       "      <th>ground_truth</th>\n",
       "    </tr>\n",
       "  </thead>\n",
       "  <tbody>\n",
       "    <tr>\n",
       "      <th>0</th>\n",
       "      <td>Al-en-01</td>\n",
       "      <td>What is a common snack for preschool kids in A...</td>\n",
       "      <td>Arabic</td>\n",
       "      <td>[شطائر الخبز بالمربى, خبز بالمربى والزبدة, هلا...</td>\n",
       "    </tr>\n",
       "  </tbody>\n",
       "</table>\n",
       "</div>"
      ],
      "text/plain": [
       "         ID                                           Question Language  \\\n",
       "0  Al-en-01  What is a common snack for preschool kids in A...   Arabic   \n",
       "\n",
       "                                        ground_truth  \n",
       "0  [شطائر الخبز بالمربى, خبز بالمربى والزبدة, هلا...  "
      ]
     },
     "execution_count": 158,
     "metadata": {},
     "output_type": "execute_result"
    }
   ],
   "source": [
    "import pandas as pd\n",
    "\n",
    "df = pd.read_parquet(r\"C:\\Users\\nikol\\OneDrive\\Desktop\\project_repos\\CMLEval\\data\\enQ_xA\\BLEnD.parquet.gzip\")\n",
    "print(len(df))\n",
    "df.head(1)"
   ]
  },
  {
   "cell_type": "code",
   "execution_count": 17,
   "id": "77192430",
   "metadata": {},
   "outputs": [
    {
     "data": {
      "text/plain": [
       "'Look at the question, think about it, and write a short answer to it.\\nWrite out your thought process, and in the end, put the correct short answer in square brackets: [steak and fries], [football], etc.\\n\\nQuestion: ماذا يأكل الأطفال كوجبة خفيفة قبل المدرسة في الجزائر؟\\nAnswer:'"
      ]
     },
     "execution_count": 17,
     "metadata": {},
     "output_type": "execute_result"
    }
   ],
   "source": [
    "from utils.prompts import EVALUATION_PROMPT_SHA\n",
    "\n",
    "EVALUATION_PROMPT_SHA.format(question=df.loc[0, \"question\"])"
   ]
  },
  {
   "cell_type": "code",
   "execution_count": 97,
   "id": "ad7f47d5",
   "metadata": {},
   "outputs": [
    {
     "data": {
      "text/plain": [
       "['شطائر الخبز بالمربى',\n",
       " 'خبز بالمربى والزبدة',\n",
       " 'هلالية',\n",
       " 'كرواسان',\n",
       " 'حليب',\n",
       " 'الحليب',\n",
       " 'اللمجة',\n",
       " 'لمجة']"
      ]
     },
     "execution_count": 97,
     "metadata": {},
     "output_type": "execute_result"
    }
   ],
   "source": [
    "ar_answers = extract_annotated_answers(df.loc[n], \"answers\")\n",
    "ar_answers"
   ]
  },
  {
   "cell_type": "code",
   "execution_count": 93,
   "id": "e823aa3b",
   "metadata": {},
   "outputs": [
    {
     "data": {
      "text/plain": [
       "'[الخبز والجبن]'"
      ]
     },
     "execution_count": 93,
     "metadata": {},
     "output_type": "execute_result"
    }
   ],
   "source": [
    "import re\n",
    "\n",
    "text = \"\"\"للتفكير في هذا السؤال، يجب أن نأخذ في الاعتبار العادات الغذائية في الجزائر وخاصة بين الأطفال في سن ما قبل المدرسة. في هذا العمر، يفضل الآباء الأطعمة الخفيفة والمغذية. في الجزائر، من الشائع أن يتناول الأطفال وجبات خفيفة محلية مثل الخبز مع الجبن، أو قطعة صغيرة من الكعك المحلي (مثل كعك الحلو أو البسكويت)، وأحيانًا الفواكه مثل الموز أو التفاح. كما أن اللبن أو الزبادي قد يكون خيارًا شائعًا أيضًا.\n",
    "\n",
    "الجواب القصير المحتمل، الذي يعكس وجبة خفيفة بسيطة ومحبوبة عند الأطفال، هو [الخبز والجبن].\"\"\"\n",
    "\n",
    "pattern = r\"\\[.+\\]\"\n",
    "re.search(pattern, text)[0]"
   ]
  },
  {
   "cell_type": "code",
   "execution_count": null,
   "id": "59227cec",
   "metadata": {},
   "outputs": [],
   "source": [
    "from sentence_transformers import SentenceTransformer\n",
    "\n",
    "model = SentenceTransformer('sentence-transformers/LaBSE')"
   ]
  },
  {
   "cell_type": "code",
   "execution_count": 85,
   "id": "47cfd89c",
   "metadata": {},
   "outputs": [],
   "source": [
    "from sklearn.metrics.pairwise import cosine_similarity\n",
    "import numpy as np\n",
    "\n",
    "def semantic_similarities(pred: str, targets: list[str]) -> list[tuple[str, float]]:\n",
    "    q_emb = model.encode([pred])\n",
    "    t_embs = model.encode(targets)\n",
    "    scores = cosine_similarity(q_emb, t_embs)[0]\n",
    "    print(scores)\n",
    "    # return 100 * sum(scores) / len(targets)\n",
    "    return scores[np.argmax(scores)] * 100"
   ]
  },
  {
   "cell_type": "code",
   "execution_count": null,
   "id": "5753a4be",
   "metadata": {},
   "outputs": [
    {
     "name": "stdout",
     "output_type": "stream",
     "text": [
      "[42.85714285714286, 35.89743589743589, 26.086956521739136, 44.44444444444444, 21.052631578947366]\n",
      "34.06772225994194\n",
      "[50.0, 54.54545454545454, 35.29411764705882, 100.0, 33.333333333333336]\n",
      "54.634581105169346\n",
      "\n",
      "\n",
      "[0.35882065 0.6071506  0.38809353 0.7302321  0.41970158]\n",
      "73.02321\n"
     ]
    }
   ],
   "source": [
    "llm_answer = \"bread and milk\"\n",
    "print(semantic_similarities(llm_answer, answers))"
   ]
  },
  {
   "cell_type": "code",
   "execution_count": null,
   "id": "96763898",
   "metadata": {},
   "outputs": [
    {
     "name": "stdout",
     "output_type": "stream",
     "text": [
      "[42.85714285714286, 51.28205128205128, 26.086956521739136, 44.44444444444444, 21.052631578947366]\n",
      "37.14464533686502\n",
      "[46.15384615384615, 60.86956521739131, 37.5, 100.0, 28.57142857142857]\n",
      "54.618967988533214\n",
      "\n",
      "\n",
      "[0.35309356 0.60055685 0.3802884  0.7351485  0.4094325 ]\n",
      "73.51485\n"
     ]
    }
   ],
   "source": [
    "llm_answer = \"milk and bread\"\n",
    "print(semantic_similarities(llm_answer, answers))"
   ]
  },
  {
   "cell_type": "code",
   "execution_count": null,
   "id": "a0542aec",
   "metadata": {},
   "outputs": [
    {
     "name": "stdout",
     "output_type": "stream",
     "text": [
      "[33.333333333333336, 37.28813559322034, 18.6046511627907, 10.526315789473683, 10.256410256410254]\n",
      "22.001769227045664\n",
      "[42.85714285714286, 45.833333333333336, 44.44444444444444, 25.0, 40.0]\n",
      "39.62698412698413\n",
      "\n",
      "\n",
      "[0.3921494  0.5940691  0.38739204 0.38659924 0.35112315]\n",
      "59.406914\n"
     ]
    }
   ],
   "source": [
    "llm_answer = \"bread with jam or chocolate spread\"\n",
    "print(semantic_similarities(llm_answer, answers))"
   ]
  },
  {
   "cell_type": "code",
   "execution_count": null,
   "id": "887ea988",
   "metadata": {},
   "outputs": [
    {
     "name": "stdout",
     "output_type": "stream",
     "text": [
      "[22.22222222222222, 21.052631578947366, 36.36363636363637, 0.0, 22.22222222222222]\n",
      "20.372142477405635\n",
      "[26.086956521739136, 26.086956521739136, 47.05882352941176, 0.0, 40.0]\n",
      "27.846547314578004\n",
      "\n",
      "\n",
      "[0.49199957 0.35076338 0.48997575 0.34249792 0.46048176]\n",
      "49.199955\n"
     ]
    }
   ],
   "source": [
    "llm_answer = \"couscous soup\"\n",
    "print(semantic_similarities(llm_answer, answers))"
   ]
  },
  {
   "cell_type": "code",
   "execution_count": 98,
   "id": "bba90a96",
   "metadata": {},
   "outputs": [
    {
     "name": "stdout",
     "output_type": "stream",
     "text": [
      "[0.6735252  0.8283471  0.11595884 0.19600447 0.60131717 0.628976\n",
      " 0.21841425 0.21387985]\n",
      "82.83471\n"
     ]
    }
   ],
   "source": [
    "llm_answer = \"الخبز والجبن\"\n",
    "print(semantic_similarities(llm_answer, ar_answers))"
   ]
  },
  {
   "cell_type": "markdown",
   "id": "58949533",
   "metadata": {},
   "source": [
    "# Berta QA (Basque)"
   ]
  },
  {
   "cell_type": "code",
   "execution_count": 76,
   "id": "479cbd77",
   "metadata": {},
   "outputs": [],
   "source": [
    "from datasets import load_dataset\n",
    "import pandas as pd\n",
    "\n",
    "df_en = load_dataset(\"HiTZ/BertaQA\", \"en\")[\"test\"].to_pandas()\n",
    "df_basque = load_dataset(\"HiTZ/BertaQA\", \"eu\")[\"test\"].to_pandas()"
   ]
  },
  {
   "cell_type": "code",
   "execution_count": 77,
   "id": "0299e763",
   "metadata": {},
   "outputs": [
    {
     "name": "stdout",
     "output_type": "stream",
     "text": [
      "Index(['id', 'category', 'group', 'difficulty', 'question', 'answer',\n",
      "       'candidates'],\n",
      "      dtype='object')\n",
      "Index(['id', 'category', 'group', 'difficulty', 'question', 'answer',\n",
      "       'candidates'],\n",
      "      dtype='object')\n"
     ]
    }
   ],
   "source": [
    "print(df_en.columns)\n",
    "print(df_basque.columns)"
   ]
  },
  {
   "cell_type": "code",
   "execution_count": 78,
   "id": "0770b95c",
   "metadata": {},
   "outputs": [],
   "source": [
    "en_question = df_basque.drop(columns=\"question\")\n",
    "en_question[\"Question\"] = df_en[\"question\"]\n",
    "\n",
    "basque_question = df_en.drop(columns=\"question\")\n",
    "basque_question[\"Question\"] = df_basque[\"question\"]"
   ]
  },
  {
   "cell_type": "code",
   "execution_count": 79,
   "id": "9d6ddfc9",
   "metadata": {},
   "outputs": [
    {
     "name": "stdout",
     "output_type": "stream",
     "text": [
      "Nola du izena Bernardo Atxagaren \"Obabakoak\" eleberrian oinarritutako filmak?\n",
      "['\"Obabakoak\"' '\"Obaba\"' '\"Obabako istorioak\"']\n",
      "1\n"
     ]
    }
   ],
   "source": [
    "n = 1\n",
    "print(basque_question.loc[1, \"Question\"])\n",
    "print(basque_question.loc[1, \"candidates\"])\n",
    "print(basque_question.loc[1, \"answer\"])"
   ]
  },
  {
   "cell_type": "code",
   "execution_count": 80,
   "id": "0d26500b",
   "metadata": {},
   "outputs": [],
   "source": [
    "def change_format(dataframe: str) -> pd.DataFrame:\n",
    "    dataframe = dataframe[dataframe[\"group\"] == \"Euskal gaiak\"].copy()\n",
    "    dataframe[\"candidates\"] = dataframe[\"candidates\"].apply(\n",
    "        lambda l: list(l) + [None] * (5 - len(l)),\n",
    "    )\n",
    "    options = [\"Option A\", \"Option B\", \"Option C\", \"Option D\", \"Option E\"]\n",
    "    dataframe[\"answer\"] = dataframe[\"answer\"].apply(\n",
    "        lambda i: options[i].split(\" \")[1],\n",
    "    )\n",
    "    dataframe = dataframe.rename(columns={\"answer\": \"marked_answer\"})\n",
    "\n",
    "    candidates = dataframe[\"candidates\"].apply(pd.Series)\n",
    "    candidates.columns = options\n",
    "    dataframe = pd.concat([dataframe, candidates], axis=1)\n",
    "    dataframe = dataframe.drop(columns=[\"candidates\", \"group\"])\n",
    "\n",
    "    return dataframe"
   ]
  },
  {
   "cell_type": "code",
   "execution_count": 81,
   "id": "9004458a",
   "metadata": {},
   "outputs": [
    {
     "name": "stdout",
     "output_type": "stream",
     "text": [
      "2364\n"
     ]
    },
    {
     "data": {
      "application/vnd.microsoft.datawrangler.viewer.v0+json": {
       "columns": [
        {
         "name": "index",
         "rawType": "int64",
         "type": "integer"
        },
        {
         "name": "id",
         "rawType": "int64",
         "type": "integer"
        },
        {
         "name": "category",
         "rawType": "object",
         "type": "string"
        },
        {
         "name": "difficulty",
         "rawType": "int64",
         "type": "integer"
        },
        {
         "name": "marked_answer",
         "rawType": "object",
         "type": "string"
        },
        {
         "name": "Question",
         "rawType": "object",
         "type": "string"
        },
        {
         "name": "Option A",
         "rawType": "object",
         "type": "string"
        },
        {
         "name": "Option B",
         "rawType": "object",
         "type": "string"
        },
        {
         "name": "Option C",
         "rawType": "object",
         "type": "string"
        },
        {
         "name": "Option D",
         "rawType": "object",
         "type": "unknown"
        },
        {
         "name": "Option E",
         "rawType": "object",
         "type": "unknown"
        }
       ],
       "conversionMethod": "pd.DataFrame",
       "ref": "4d5b1071-2932-4bc3-b54b-a55a5fd82f02",
       "rows": [
        [
         "1",
         "1",
         "Zinema eta ikuskizunak",
         "1",
         "B",
         "Nola du izena Bernardo Atxagaren \"Obabakoak\" eleberrian oinarritutako filmak?",
         "\"Obabakoak\"",
         "\"Obaba\"",
         "\"Obabako istorioak\"",
         null,
         null
        ],
        [
         "2",
         "2",
         "Geografia eta Historia",
         "1",
         "A",
         "Non dago Atxondo?",
         "In Biscay",
         "In Gipuzkoa",
         "In Navarre",
         null,
         null
        ],
        [
         "4",
         "5",
         "Zinema eta ikuskizunak",
         "3",
         "C",
         "Zenbat irauten zuten, gutxi gorabehera, \"Bertan zoro\" telesaileko kapituluek?",
         "90 minutes",
         "60 minutes",
         "30 minutes",
         null,
         null
        ],
        [
         "6",
         "7",
         "Zinema eta ikuskizunak",
         "2",
         "B",
         "Zer filmekin lortu zuen arrakasta \"Frontera Films Irun\" produkzio-etxeak?",
         "\"Alquezar\"",
         "\"Ama Lur\"",
         "\"Pelotari\"",
         null,
         null
        ],
        [
         "7",
         "8",
         "Kirola eta aisialdia",
         "1",
         "B",
         "Non jaio zen Julian Retegi?",
         "Areso",
         "Eratsun",
         "Eraso",
         null,
         null
        ]
       ],
       "shape": {
        "columns": 10,
        "rows": 5
       }
      },
      "text/html": [
       "<div>\n",
       "<style scoped>\n",
       "    .dataframe tbody tr th:only-of-type {\n",
       "        vertical-align: middle;\n",
       "    }\n",
       "\n",
       "    .dataframe tbody tr th {\n",
       "        vertical-align: top;\n",
       "    }\n",
       "\n",
       "    .dataframe thead th {\n",
       "        text-align: right;\n",
       "    }\n",
       "</style>\n",
       "<table border=\"1\" class=\"dataframe\">\n",
       "  <thead>\n",
       "    <tr style=\"text-align: right;\">\n",
       "      <th></th>\n",
       "      <th>id</th>\n",
       "      <th>category</th>\n",
       "      <th>difficulty</th>\n",
       "      <th>marked_answer</th>\n",
       "      <th>Question</th>\n",
       "      <th>Option A</th>\n",
       "      <th>Option B</th>\n",
       "      <th>Option C</th>\n",
       "      <th>Option D</th>\n",
       "      <th>Option E</th>\n",
       "    </tr>\n",
       "  </thead>\n",
       "  <tbody>\n",
       "    <tr>\n",
       "      <th>1</th>\n",
       "      <td>1</td>\n",
       "      <td>Zinema eta ikuskizunak</td>\n",
       "      <td>1</td>\n",
       "      <td>B</td>\n",
       "      <td>Nola du izena Bernardo Atxagaren \"Obabakoak\" e...</td>\n",
       "      <td>\"Obabakoak\"</td>\n",
       "      <td>\"Obaba\"</td>\n",
       "      <td>\"Obabako istorioak\"</td>\n",
       "      <td>None</td>\n",
       "      <td>None</td>\n",
       "    </tr>\n",
       "    <tr>\n",
       "      <th>2</th>\n",
       "      <td>2</td>\n",
       "      <td>Geografia eta Historia</td>\n",
       "      <td>1</td>\n",
       "      <td>A</td>\n",
       "      <td>Non dago Atxondo?</td>\n",
       "      <td>In Biscay</td>\n",
       "      <td>In Gipuzkoa</td>\n",
       "      <td>In Navarre</td>\n",
       "      <td>None</td>\n",
       "      <td>None</td>\n",
       "    </tr>\n",
       "    <tr>\n",
       "      <th>4</th>\n",
       "      <td>5</td>\n",
       "      <td>Zinema eta ikuskizunak</td>\n",
       "      <td>3</td>\n",
       "      <td>C</td>\n",
       "      <td>Zenbat irauten zuten, gutxi gorabehera, \"Berta...</td>\n",
       "      <td>90 minutes</td>\n",
       "      <td>60 minutes</td>\n",
       "      <td>30 minutes</td>\n",
       "      <td>None</td>\n",
       "      <td>None</td>\n",
       "    </tr>\n",
       "    <tr>\n",
       "      <th>6</th>\n",
       "      <td>7</td>\n",
       "      <td>Zinema eta ikuskizunak</td>\n",
       "      <td>2</td>\n",
       "      <td>B</td>\n",
       "      <td>Zer filmekin lortu zuen arrakasta \"Frontera Fi...</td>\n",
       "      <td>\"Alquezar\"</td>\n",
       "      <td>\"Ama Lur\"</td>\n",
       "      <td>\"Pelotari\"</td>\n",
       "      <td>None</td>\n",
       "      <td>None</td>\n",
       "    </tr>\n",
       "    <tr>\n",
       "      <th>7</th>\n",
       "      <td>8</td>\n",
       "      <td>Kirola eta aisialdia</td>\n",
       "      <td>1</td>\n",
       "      <td>B</td>\n",
       "      <td>Non jaio zen Julian Retegi?</td>\n",
       "      <td>Areso</td>\n",
       "      <td>Eratsun</td>\n",
       "      <td>Eraso</td>\n",
       "      <td>None</td>\n",
       "      <td>None</td>\n",
       "    </tr>\n",
       "  </tbody>\n",
       "</table>\n",
       "</div>"
      ],
      "text/plain": [
       "   id                category  difficulty marked_answer  \\\n",
       "1   1  Zinema eta ikuskizunak           1             B   \n",
       "2   2  Geografia eta Historia           1             A   \n",
       "4   5  Zinema eta ikuskizunak           3             C   \n",
       "6   7  Zinema eta ikuskizunak           2             B   \n",
       "7   8    Kirola eta aisialdia           1             B   \n",
       "\n",
       "                                            Question     Option A  \\\n",
       "1  Nola du izena Bernardo Atxagaren \"Obabakoak\" e...  \"Obabakoak\"   \n",
       "2                                  Non dago Atxondo?    In Biscay   \n",
       "4  Zenbat irauten zuten, gutxi gorabehera, \"Berta...   90 minutes   \n",
       "6  Zer filmekin lortu zuen arrakasta \"Frontera Fi...   \"Alquezar\"   \n",
       "7                        Non jaio zen Julian Retegi?        Areso   \n",
       "\n",
       "      Option B             Option C Option D Option E  \n",
       "1      \"Obaba\"  \"Obabako istorioak\"     None     None  \n",
       "2  In Gipuzkoa           In Navarre     None     None  \n",
       "4   60 minutes           30 minutes     None     None  \n",
       "6    \"Ama Lur\"           \"Pelotari\"     None     None  \n",
       "7      Eratsun                Eraso     None     None  "
      ]
     },
     "execution_count": 81,
     "metadata": {},
     "output_type": "execute_result"
    }
   ],
   "source": [
    "basque_question = change_format(basque_question)\n",
    "print(len(basque_question))\n",
    "basque_question.head()"
   ]
  },
  {
   "cell_type": "code",
   "execution_count": 82,
   "id": "7d505198",
   "metadata": {},
   "outputs": [
    {
     "name": "stdout",
     "output_type": "stream",
     "text": [
      "2364\n"
     ]
    },
    {
     "data": {
      "application/vnd.microsoft.datawrangler.viewer.v0+json": {
       "columns": [
        {
         "name": "index",
         "rawType": "int64",
         "type": "integer"
        },
        {
         "name": "id",
         "rawType": "int64",
         "type": "integer"
        },
        {
         "name": "category",
         "rawType": "object",
         "type": "string"
        },
        {
         "name": "difficulty",
         "rawType": "int64",
         "type": "integer"
        },
        {
         "name": "marked_answer",
         "rawType": "object",
         "type": "string"
        },
        {
         "name": "Question",
         "rawType": "object",
         "type": "string"
        },
        {
         "name": "Option A",
         "rawType": "object",
         "type": "string"
        },
        {
         "name": "Option B",
         "rawType": "object",
         "type": "string"
        },
        {
         "name": "Option C",
         "rawType": "object",
         "type": "string"
        },
        {
         "name": "Option D",
         "rawType": "object",
         "type": "unknown"
        },
        {
         "name": "Option E",
         "rawType": "object",
         "type": "unknown"
        }
       ],
       "conversionMethod": "pd.DataFrame",
       "ref": "1a90e418-3b00-428b-b038-75c9de8df3d9",
       "rows": [
        [
         "1",
         "1",
         "Zinema eta ikuskizunak",
         "1",
         "B",
         "What's the name of the film based on Bernardo Atxaga's novel \"Obabakoak\"?",
         "\"Obabakoak\"",
         "\"Obaba\"",
         "\"Obabako istorioak\"",
         null,
         null
        ],
        [
         "2",
         "2",
         "Geografia eta Historia",
         "1",
         "A",
         "Where's Atxondo?",
         "Bizkaian",
         "Gipuzkoan",
         "Nafarroan",
         null,
         null
        ],
        [
         "4",
         "5",
         "Zinema eta ikuskizunak",
         "3",
         "C",
         "How long, more or less, did the episodes of \"Bertan zoro\" last?",
         "90 minutu",
         "Ordubete",
         "30 minutu",
         null,
         null
        ],
        [
         "6",
         "7",
         "Zinema eta ikuskizunak",
         "2",
         "B",
         "Which film was a box office success for the \"Frontera Films Irun\" production company?",
         "\"Alquezar\" filmarekin",
         "\"Ama Lur\" filmarekin",
         "\"Pelotari\" filmarekin",
         null,
         null
        ],
        [
         "7",
         "8",
         "Kirola eta aisialdia",
         "1",
         "B",
         "Where was Julian Retegi born?",
         "Areson",
         "Eratsunen",
         "Erason",
         null,
         null
        ]
       ],
       "shape": {
        "columns": 10,
        "rows": 5
       }
      },
      "text/html": [
       "<div>\n",
       "<style scoped>\n",
       "    .dataframe tbody tr th:only-of-type {\n",
       "        vertical-align: middle;\n",
       "    }\n",
       "\n",
       "    .dataframe tbody tr th {\n",
       "        vertical-align: top;\n",
       "    }\n",
       "\n",
       "    .dataframe thead th {\n",
       "        text-align: right;\n",
       "    }\n",
       "</style>\n",
       "<table border=\"1\" class=\"dataframe\">\n",
       "  <thead>\n",
       "    <tr style=\"text-align: right;\">\n",
       "      <th></th>\n",
       "      <th>id</th>\n",
       "      <th>category</th>\n",
       "      <th>difficulty</th>\n",
       "      <th>marked_answer</th>\n",
       "      <th>Question</th>\n",
       "      <th>Option A</th>\n",
       "      <th>Option B</th>\n",
       "      <th>Option C</th>\n",
       "      <th>Option D</th>\n",
       "      <th>Option E</th>\n",
       "    </tr>\n",
       "  </thead>\n",
       "  <tbody>\n",
       "    <tr>\n",
       "      <th>1</th>\n",
       "      <td>1</td>\n",
       "      <td>Zinema eta ikuskizunak</td>\n",
       "      <td>1</td>\n",
       "      <td>B</td>\n",
       "      <td>What's the name of the film based on Bernardo ...</td>\n",
       "      <td>\"Obabakoak\"</td>\n",
       "      <td>\"Obaba\"</td>\n",
       "      <td>\"Obabako istorioak\"</td>\n",
       "      <td>None</td>\n",
       "      <td>None</td>\n",
       "    </tr>\n",
       "    <tr>\n",
       "      <th>2</th>\n",
       "      <td>2</td>\n",
       "      <td>Geografia eta Historia</td>\n",
       "      <td>1</td>\n",
       "      <td>A</td>\n",
       "      <td>Where's Atxondo?</td>\n",
       "      <td>Bizkaian</td>\n",
       "      <td>Gipuzkoan</td>\n",
       "      <td>Nafarroan</td>\n",
       "      <td>None</td>\n",
       "      <td>None</td>\n",
       "    </tr>\n",
       "    <tr>\n",
       "      <th>4</th>\n",
       "      <td>5</td>\n",
       "      <td>Zinema eta ikuskizunak</td>\n",
       "      <td>3</td>\n",
       "      <td>C</td>\n",
       "      <td>How long, more or less, did the episodes of \"B...</td>\n",
       "      <td>90 minutu</td>\n",
       "      <td>Ordubete</td>\n",
       "      <td>30 minutu</td>\n",
       "      <td>None</td>\n",
       "      <td>None</td>\n",
       "    </tr>\n",
       "    <tr>\n",
       "      <th>6</th>\n",
       "      <td>7</td>\n",
       "      <td>Zinema eta ikuskizunak</td>\n",
       "      <td>2</td>\n",
       "      <td>B</td>\n",
       "      <td>Which film was a box office success for the \"F...</td>\n",
       "      <td>\"Alquezar\" filmarekin</td>\n",
       "      <td>\"Ama Lur\" filmarekin</td>\n",
       "      <td>\"Pelotari\" filmarekin</td>\n",
       "      <td>None</td>\n",
       "      <td>None</td>\n",
       "    </tr>\n",
       "    <tr>\n",
       "      <th>7</th>\n",
       "      <td>8</td>\n",
       "      <td>Kirola eta aisialdia</td>\n",
       "      <td>1</td>\n",
       "      <td>B</td>\n",
       "      <td>Where was Julian Retegi born?</td>\n",
       "      <td>Areson</td>\n",
       "      <td>Eratsunen</td>\n",
       "      <td>Erason</td>\n",
       "      <td>None</td>\n",
       "      <td>None</td>\n",
       "    </tr>\n",
       "  </tbody>\n",
       "</table>\n",
       "</div>"
      ],
      "text/plain": [
       "   id                category  difficulty marked_answer  \\\n",
       "1   1  Zinema eta ikuskizunak           1             B   \n",
       "2   2  Geografia eta Historia           1             A   \n",
       "4   5  Zinema eta ikuskizunak           3             C   \n",
       "6   7  Zinema eta ikuskizunak           2             B   \n",
       "7   8    Kirola eta aisialdia           1             B   \n",
       "\n",
       "                                            Question               Option A  \\\n",
       "1  What's the name of the film based on Bernardo ...            \"Obabakoak\"   \n",
       "2                                   Where's Atxondo?               Bizkaian   \n",
       "4  How long, more or less, did the episodes of \"B...              90 minutu   \n",
       "6  Which film was a box office success for the \"F...  \"Alquezar\" filmarekin   \n",
       "7                      Where was Julian Retegi born?                 Areson   \n",
       "\n",
       "               Option B               Option C Option D Option E  \n",
       "1               \"Obaba\"    \"Obabako istorioak\"     None     None  \n",
       "2             Gipuzkoan              Nafarroan     None     None  \n",
       "4              Ordubete              30 minutu     None     None  \n",
       "6  \"Ama Lur\" filmarekin  \"Pelotari\" filmarekin     None     None  \n",
       "7             Eratsunen                 Erason     None     None  "
      ]
     },
     "execution_count": 82,
     "metadata": {},
     "output_type": "execute_result"
    }
   ],
   "source": [
    "en_question = change_format(en_question)\n",
    "print(len(en_question))\n",
    "en_question.head()"
   ]
  },
  {
   "cell_type": "code",
   "execution_count": 85,
   "id": "4aef5db7",
   "metadata": {},
   "outputs": [],
   "source": [
    "def save_df(dataframe: pd.DataFrame, path: str):\n",
    "    dataframe.to_parquet(\n",
    "        path,\n",
    "        index=False,\n",
    "        compression=\"gzip\",\n",
    "    )"
   ]
  },
  {
   "cell_type": "code",
   "execution_count": 86,
   "id": "8afa4144",
   "metadata": {},
   "outputs": [],
   "source": [
    "save_df(en_question, r\"C:\\Users\\nikol\\OneDrive\\Desktop\\project_repos\\CMLEval\\data\\enQ_xA\\BertaQA.parquet.gzip\")"
   ]
  },
  {
   "cell_type": "code",
   "execution_count": 87,
   "id": "7a04b3d9",
   "metadata": {},
   "outputs": [],
   "source": [
    "save_df(basque_question, r\"C:\\Users\\nikol\\OneDrive\\Desktop\\project_repos\\CMLEval\\data\\xQ_enA\\BertaQA.parquet.gzip\")"
   ]
  },
  {
   "cell_type": "markdown",
   "id": "fbe5db26",
   "metadata": {},
   "source": [
    "# MultiNativQA"
   ]
  },
  {
   "cell_type": "code",
   "execution_count": 4,
   "id": "bbbc36e1",
   "metadata": {},
   "outputs": [
    {
     "name": "stderr",
     "output_type": "stream",
     "text": [
      "Generating train split: 3649 examples [00:00, 37811.82 examples/s]\n",
      "Generating dev split: 492 examples [00:00, 130997.12 examples/s]\n",
      "Generating test split: 988 examples [00:00, 198723.08 examples/s]\n"
     ]
    },
    {
     "data": {
      "text/plain": [
       "DatasetDict({\n",
       "    train: Dataset({\n",
       "        features: ['data_id', 'category', 'input_query', 'question', 'is_reliable', 'answer', 'source_answer_url'],\n",
       "        num_rows: 3649\n",
       "    })\n",
       "    dev: Dataset({\n",
       "        features: ['data_id', 'category', 'input_query', 'question', 'is_reliable', 'answer', 'source_answer_url'],\n",
       "        num_rows: 492\n",
       "    })\n",
       "    test: Dataset({\n",
       "        features: ['data_id', 'category', 'input_query', 'question', 'is_reliable', 'answer', 'source_answer_url'],\n",
       "        num_rows: 988\n",
       "    })\n",
       "})"
      ]
     },
     "execution_count": 4,
     "metadata": {},
     "output_type": "execute_result"
    }
   ],
   "source": [
    "from datasets import load_dataset\n",
    "\n",
    "data = load_dataset(\"QCRI/MultiNativQA\")\n",
    "data"
   ]
  },
  {
   "cell_type": "code",
   "execution_count": 7,
   "id": "76dbc893",
   "metadata": {},
   "outputs": [
    {
     "data": {
      "text/plain": [
       "{'data_id': '2fe8b1c08f33ff94f195fb845c9faf8f',\n",
       " 'category': 'names',\n",
       " 'input_query': 'زهرة لوسيل',\n",
       " 'question': 'أين توجد مدينة لوسيل؟',\n",
       " 'is_reliable': 'very_reliable',\n",
       " 'answer': 'شمال مدينة الدوحة عاصمة قطر',\n",
       " 'source_answer_url': 'https://www.aljazeera.net/encyclopedia/2023/9/29/%D9%85%D8%AF%D9%8A%D9%86%D8%A9-%D9%84%D9%88%D8%B3%D9%8A%D9%84-%D8%A7%D9%84%D9%82%D8%B7%D8%B1%D9%8A%D8%A9-%D8%A3%D9%8A%D9%82%D9%88%D9%86%D8%A9-%D8%A7%D9%84%D9%85%D9%88%D9%86%D8%AF%D9%8A%D8%A7%D9%84'}"
      ]
     },
     "execution_count": 7,
     "metadata": {},
     "output_type": "execute_result"
    }
   ],
   "source": [
    "data[\"train\"][0]"
   ]
  }
 ],
 "metadata": {
  "kernelspec": {
   "display_name": ".venv",
   "language": "python",
   "name": "python3"
  },
  "language_info": {
   "codemirror_mode": {
    "name": "ipython",
    "version": 3
   },
   "file_extension": ".py",
   "mimetype": "text/x-python",
   "name": "python",
   "nbconvert_exporter": "python",
   "pygments_lexer": "ipython3",
   "version": "3.12.2"
  }
 },
 "nbformat": 4,
 "nbformat_minor": 5
}

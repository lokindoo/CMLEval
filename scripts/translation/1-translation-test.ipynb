{
 "cells": [
  {
   "cell_type": "markdown",
   "metadata": {},
   "source": [
    "# Load dataset"
   ]
  },
  {
   "cell_type": "code",
   "execution_count": 17,
   "metadata": {},
   "outputs": [
    {
     "data": {
      "text/plain": [
       "DatasetDict({\n",
       "    train: Dataset({\n",
       "        features: ['query_id', 'query', 'positive_passages', 'negative_passages'],\n",
       "        num_rows: 5366\n",
       "    })\n",
       "    dev: Dataset({\n",
       "        features: ['query_id', 'query', 'positive_passages', 'negative_passages'],\n",
       "        num_rows: 1375\n",
       "    })\n",
       "    test: Dataset({\n",
       "        features: ['query_id', 'query', 'positive_passages', 'negative_passages'],\n",
       "        num_rows: 995\n",
       "    })\n",
       "})"
      ]
     },
     "execution_count": 17,
     "metadata": {},
     "output_type": "execute_result"
    }
   ],
   "source": [
    "from datasets import load_dataset\n",
    "\n",
    "ds = load_dataset(\"castorini/mr-tydi\", \"russian\")\n",
    "ds"
   ]
  },
  {
   "cell_type": "code",
   "execution_count": 21,
   "metadata": {},
   "outputs": [
    {
     "data": {
      "text/html": [
       "<div>\n",
       "<style scoped>\n",
       "    .dataframe tbody tr th:only-of-type {\n",
       "        vertical-align: middle;\n",
       "    }\n",
       "\n",
       "    .dataframe tbody tr th {\n",
       "        vertical-align: top;\n",
       "    }\n",
       "\n",
       "    .dataframe thead th {\n",
       "        text-align: right;\n",
       "    }\n",
       "</style>\n",
       "<table border=\"1\" class=\"dataframe\">\n",
       "  <thead>\n",
       "    <tr style=\"text-align: right;\">\n",
       "      <th></th>\n",
       "      <th>query_id</th>\n",
       "      <th>query</th>\n",
       "      <th>positive_passages</th>\n",
       "      <th>negative_passages</th>\n",
       "    </tr>\n",
       "  </thead>\n",
       "  <tbody>\n",
       "    <tr>\n",
       "      <th>0</th>\n",
       "      <td>1</td>\n",
       "      <td>Когда был спущен на воду первый миноносец «Спо...</td>\n",
       "      <td>[{'docid': '2183682#1', 'text': 'Зачислен в сп...</td>\n",
       "      <td>[{'docid': '4196097#0', 'text': '«Пергамос» — ...</td>\n",
       "    </tr>\n",
       "    <tr>\n",
       "      <th>1</th>\n",
       "      <td>4</td>\n",
       "      <td>Как долго существовало британское телевизионно...</td>\n",
       "      <td>[{'docid': '1534585#0', 'text': 'Хрустальный л...</td>\n",
       "      <td>[{'docid': '1534585#111', 'text': 'В 1991 году...</td>\n",
       "    </tr>\n",
       "    <tr>\n",
       "      <th>2</th>\n",
       "      <td>6</td>\n",
       "      <td>Когда родилась Князева Марина Леонидовна?</td>\n",
       "      <td>[{'docid': '4811421#0', 'text': 'Князева Марин...</td>\n",
       "      <td>[{'docid': '4811421#56', 'text': 'В 2009 году ...</td>\n",
       "    </tr>\n",
       "    <tr>\n",
       "      <th>3</th>\n",
       "      <td>11</td>\n",
       "      <td>Кто был главным художником мира Зен?</td>\n",
       "      <td>[{'docid': '182190#27', 'text': 'В книге Half-...</td>\n",
       "      <td>[{'docid': '4798444#3', 'text': 'В конце игры ...</td>\n",
       "    </tr>\n",
       "    <tr>\n",
       "      <th>4</th>\n",
       "      <td>12</td>\n",
       "      <td>Как звали предполагаемого убийцу Джона Кеннеди?</td>\n",
       "      <td>[{'docid': '794011#1', 'text': 'Убийство в теч...</td>\n",
       "      <td>[{'docid': '794011#32', 'text': 'По версии Ком...</td>\n",
       "    </tr>\n",
       "    <tr>\n",
       "      <th>...</th>\n",
       "      <td>...</td>\n",
       "      <td>...</td>\n",
       "      <td>...</td>\n",
       "      <td>...</td>\n",
       "    </tr>\n",
       "    <tr>\n",
       "      <th>7731</th>\n",
       "      <td>7758</td>\n",
       "      <td>Является ли Гонконг частью Китая?</td>\n",
       "      <td>[{'docid': '1467#0', 'text': '', 'title': ''},...</td>\n",
       "      <td>[]</td>\n",
       "    </tr>\n",
       "    <tr>\n",
       "      <th>7732</th>\n",
       "      <td>7759</td>\n",
       "      <td>Кто был конструктором 76-мм полковой пушки обр...</td>\n",
       "      <td>[{'docid': '245482#6', 'text': '', 'title': ''}]</td>\n",
       "      <td>[]</td>\n",
       "    </tr>\n",
       "    <tr>\n",
       "      <th>7733</th>\n",
       "      <td>7760</td>\n",
       "      <td>Кем впервые были упомянуты меря?</td>\n",
       "      <td>[{'docid': '260627#3', 'text': '', 'title': ''}]</td>\n",
       "      <td>[]</td>\n",
       "    </tr>\n",
       "    <tr>\n",
       "      <th>7734</th>\n",
       "      <td>7761</td>\n",
       "      <td>Что является главной движущей силой постиндуст...</td>\n",
       "      <td>[{'docid': '85735#2', 'text': '', 'title': ''}]</td>\n",
       "      <td>[]</td>\n",
       "    </tr>\n",
       "    <tr>\n",
       "      <th>7735</th>\n",
       "      <td>7762</td>\n",
       "      <td>Когда впервые начали применять компьютерную гр...</td>\n",
       "      <td>[{'docid': '2444778#2', 'text': '', 'title': ''}]</td>\n",
       "      <td>[]</td>\n",
       "    </tr>\n",
       "  </tbody>\n",
       "</table>\n",
       "<p>7736 rows × 4 columns</p>\n",
       "</div>"
      ],
      "text/plain": [
       "     query_id                                              query  \\\n",
       "0           1  Когда был спущен на воду первый миноносец «Спо...   \n",
       "1           4  Как долго существовало британское телевизионно...   \n",
       "2           6          Когда родилась Князева Марина Леонидовна?   \n",
       "3          11               Кто был главным художником мира Зен?   \n",
       "4          12    Как звали предполагаемого убийцу Джона Кеннеди?   \n",
       "...       ...                                                ...   \n",
       "7731     7758                  Является ли Гонконг частью Китая?   \n",
       "7732     7759  Кто был конструктором 76-мм полковой пушки обр...   \n",
       "7733     7760                   Кем впервые были упомянуты меря?   \n",
       "7734     7761  Что является главной движущей силой постиндуст...   \n",
       "7735     7762  Когда впервые начали применять компьютерную гр...   \n",
       "\n",
       "                                      positive_passages  \\\n",
       "0     [{'docid': '2183682#1', 'text': 'Зачислен в сп...   \n",
       "1     [{'docid': '1534585#0', 'text': 'Хрустальный л...   \n",
       "2     [{'docid': '4811421#0', 'text': 'Князева Марин...   \n",
       "3     [{'docid': '182190#27', 'text': 'В книге Half-...   \n",
       "4     [{'docid': '794011#1', 'text': 'Убийство в теч...   \n",
       "...                                                 ...   \n",
       "7731  [{'docid': '1467#0', 'text': '', 'title': ''},...   \n",
       "7732   [{'docid': '245482#6', 'text': '', 'title': ''}]   \n",
       "7733   [{'docid': '260627#3', 'text': '', 'title': ''}]   \n",
       "7734    [{'docid': '85735#2', 'text': '', 'title': ''}]   \n",
       "7735  [{'docid': '2444778#2', 'text': '', 'title': ''}]   \n",
       "\n",
       "                                      negative_passages  \n",
       "0     [{'docid': '4196097#0', 'text': '«Пергамос» — ...  \n",
       "1     [{'docid': '1534585#111', 'text': 'В 1991 году...  \n",
       "2     [{'docid': '4811421#56', 'text': 'В 2009 году ...  \n",
       "3     [{'docid': '4798444#3', 'text': 'В конце игры ...  \n",
       "4     [{'docid': '794011#32', 'text': 'По версии Ком...  \n",
       "...                                                 ...  \n",
       "7731                                                 []  \n",
       "7732                                                 []  \n",
       "7733                                                 []  \n",
       "7734                                                 []  \n",
       "7735                                                 []  \n",
       "\n",
       "[7736 rows x 4 columns]"
      ]
     },
     "execution_count": 21,
     "metadata": {},
     "output_type": "execute_result"
    }
   ],
   "source": [
    "import pandas as pd\n",
    "\n",
    "df = []\n",
    "for split in ds.keys():\n",
    "    df.append(ds[split].to_pandas())\n",
    "df = pd.concat(df).reset_index(drop=True)\n",
    "df"
   ]
  },
  {
   "cell_type": "code",
   "execution_count": 27,
   "metadata": {},
   "outputs": [
    {
     "name": "stdout",
     "output_type": "stream",
     "text": [
      "query: Когда был спущен на воду первый миноносец «Спокойный»?\n",
      "positive: [{'docid': '2183682#1', 'text': 'Зачислен в списки ВМФ СССР 19 августа 1952 года. Официальная закладка (при 33 % готовности корпуса) была произведена на заводе № 190 им. А. А. Жданова 4 марта 1953 года (строительный № 701), спущен на воду 28 ноября 1953 года. Испытания корабля были начаты 26 апреля 1954 года на Балтике, испытания артиллерии велись с 8 августа по 8 сентября и с 3 по 16 декабря 1955 года. Корабль принят флотом 27 июня 1956 года, 9 октября 1957 года эсминец вступил в состав Советского Военно-Морского Флота[1].', 'title': 'Спокойный (эсминец)'}]\n"
     ]
    }
   ],
   "source": [
    "n = 0\n",
    "print(\"query:\", df.loc[n, \"query\"])\n",
    "print(\"positive:\", df.loc[n, \"positive_passages\"])\n",
    "# print(\"negative:\", df.loc[n, \"negative_passages\"])"
   ]
  }
 ],
 "metadata": {
  "kernelspec": {
   "display_name": ".venv",
   "language": "python",
   "name": "python3"
  },
  "language_info": {
   "codemirror_mode": {
    "name": "ipython",
    "version": 3
   },
   "file_extension": ".py",
   "mimetype": "text/x-python",
   "name": "python",
   "nbconvert_exporter": "python",
   "pygments_lexer": "ipython3",
   "version": "3.12.2"
  }
 },
 "nbformat": 4,
 "nbformat_minor": 2
}

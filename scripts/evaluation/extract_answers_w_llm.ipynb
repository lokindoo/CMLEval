{
 "cells": [
  {
   "cell_type": "code",
   "execution_count": 1,
   "id": "bcf9dd87",
   "metadata": {},
   "outputs": [],
   "source": [
    "import os\n",
    "import sys\n",
    "\n",
    "module_path = os.path.abspath(os.path.join('..'))\n",
    "if module_path not in sys.path:\n",
    "    sys.path.append(module_path)"
   ]
  },
  {
   "cell_type": "code",
   "execution_count": 2,
   "id": "4f1423b8",
   "metadata": {},
   "outputs": [
    {
     "data": {
      "text/plain": [
       "'c:\\\\Users\\\\nikol\\\\OneDrive\\\\Desktop\\\\project_repos\\\\CMLEval\\\\scripts\\\\evaluation'"
      ]
     },
     "execution_count": 2,
     "metadata": {},
     "output_type": "execute_result"
    }
   ],
   "source": [
    "os.getcwd()"
   ]
  },
  {
   "cell_type": "code",
   "execution_count": 6,
   "id": "daa06313",
   "metadata": {},
   "outputs": [
    {
     "data": {
      "text/plain": [
       "'BertaQA_en_a.groq-models'"
      ]
     },
     "execution_count": 6,
     "metadata": {},
     "output_type": "execute_result"
    }
   ],
   "source": [
    "Path(r\"C:\\Users\\nikol\\OneDrive\\Desktop\\project_repos\\CMLEval\\data\\results\\MCQA\\BertaQA_en_a.groq-models.json\").stem\n"
   ]
  },
  {
   "cell_type": "code",
   "execution_count": null,
   "id": "2a9aa6cc",
   "metadata": {},
   "outputs": [
    {
     "name": "stdout",
     "output_type": "stream",
     "text": [
      "BertaQA.gpt-4-1-mini.processed.json\n"
     ]
    },
    {
     "name": "stderr",
     "output_type": "stream",
     "text": [
      "100%|████████████████████████████████████████████████████████| 4728/4728 [00:00<00:00, 48853.88it/s]\n",
      "100%|█████████████████████████████████████████████████████████| 4728/4728 [00:03<00:00, 1201.59it/s]\n"
     ]
    },
    {
     "name": "stdout",
     "output_type": "stream",
     "text": [
      "BertaQA.gpt-4-1.processed.json\n"
     ]
    },
    {
     "name": "stderr",
     "output_type": "stream",
     "text": [
      "100%|████████████████████████████████████████████████████████| 4728/4728 [00:00<00:00, 62362.36it/s]\n",
      "100%|█████████████████████████████████████████████████████████| 4728/4728 [00:00<00:00, 9444.91it/s]\n"
     ]
    },
    {
     "name": "stdout",
     "output_type": "stream",
     "text": [
      "BertaQA.o4-mini.processed.json\n"
     ]
    },
    {
     "name": "stderr",
     "output_type": "stream",
     "text": [
      "100%|████████████████████████████████████████████████████████| 4728/4728 [00:00<00:00, 95579.16it/s]\n",
      "100%|██████████████████████████████████████████████████████████| 4728/4728 [00:14<00:00, 317.33it/s]\n"
     ]
    },
    {
     "name": "stdout",
     "output_type": "stream",
     "text": [
      "BertaQA_en_a.groq-models.json\n"
     ]
    },
    {
     "name": "stderr",
     "output_type": "stream",
     "text": [
      "100%|████████████████████████████████████████████████████████| 2364/2364 [00:00<00:00, 43114.84it/s]\n",
      "100%|████████████████████████████████████████████████████████| 2364/2364 [00:00<00:00, 61561.08it/s]\n",
      "100%|████████████████████████████████████████████████████████| 2364/2364 [00:00<00:00, 13361.58it/s]\n",
      "100%|███████████████████████████████████████████████████████| 2364/2364 [00:00<00:00, 129894.08it/s]\n",
      "100%|████████████████████████████████████████████████████████| 2364/2364 [00:00<00:00, 42969.84it/s]\n",
      "100%|████████████████████████████████████████████████████████| 2364/2364 [00:00<00:00, 64433.41it/s]\n",
      "100%|███████████████████████████████████████████████████████████| 2364/2364 [04:18<00:00,  9.16it/s]\n",
      " 48%|████████████████████████████▌                              | 1143/2364 [01:28<01:05, 18.74it/s]"
     ]
    }
   ],
   "source": [
    "from utils.io import load_json\n",
    "from utils.parsers import extract_answers_with_rules, extract_answers_with_llm\n",
    "from pathlib import Path\n",
    "import json\n",
    "\n",
    "\n",
    "# dataset_name = \"KazMMLU\"\n",
    "dataset_name = \"BertaQA\"\n",
    "base_path = r\"C:\\Users\\nikol\\OneDrive\\Desktop\\project_repos\\CMLEval\\data\\results\\MCQA\"\n",
    "qa_type = Path(base_path).stem\n",
    "for f in os.listdir(base_path):\n",
    "    if f.startswith(dataset_name):\n",
    "        print(f)\n",
    "        path = os.path.join(base_path, f)\n",
    "        data = load_json(path)\n",
    "        extract_answers_with_rules(results=data, qa_type=qa_type)\n",
    "        extract_answers_with_llm(results=data, qa_type=qa_type, test=True)\n",
    "\n",
    "        with open(Path(path).with_suffix(\".done.json\"), \"w\", encoding=\"utf-8\") as file:\n",
    "            json.dump(data, file, indent=2, ensure_ascii=False)"
   ]
  },
  {
   "cell_type": "code",
   "execution_count": null,
   "id": "39ee7e44",
   "metadata": {},
   "outputs": [],
   "source": []
  }
 ],
 "metadata": {
  "kernelspec": {
   "display_name": ".venv",
   "language": "python",
   "name": "python3"
  },
  "language_info": {
   "codemirror_mode": {
    "name": "ipython",
    "version": 3
   },
   "file_extension": ".py",
   "mimetype": "text/x-python",
   "name": "python",
   "nbconvert_exporter": "python",
   "pygments_lexer": "ipython3",
   "version": "3.12.2"
  }
 },
 "nbformat": 4,
 "nbformat_minor": 5
}
